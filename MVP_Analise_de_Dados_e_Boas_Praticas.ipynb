{
  "nbformat": 4,
  "nbformat_minor": 0,
  "metadata": {
    "colab": {
      "provenance": [],
      "authorship_tag": "ABX9TyP8YtT3QL5NtbFhs87Lrr50",
      "include_colab_link": true
    },
    "kernelspec": {
      "name": "python3",
      "display_name": "Python 3"
    },
    "language_info": {
      "name": "python"
    }
  },
  "cells": [
    {
      "cell_type": "markdown",
      "metadata": {
        "id": "view-in-github",
        "colab_type": "text"
      },
      "source": [
        "<a href=\"https://colab.research.google.com/github/gugazan/MVP-Analise-de-Dados-e-Boas-Praticas/blob/main/MVP_Analise_de_Dados_e_Boas_Praticas.ipynb\" target=\"_parent\"><img src=\"https://colab.research.google.com/assets/colab-badge.svg\" alt=\"Open In Colab\"/></a>"
      ]
    },
    {
      "cell_type": "markdown",
      "source": [
        "# MVP Análise de Dados e Boas Práticas\n",
        "\n",
        "**Nome**: Gustavo Carvalho da Silva Pampillón Rodrigues\n",
        "\n",
        "**Matrícula**: 4052025001253\n",
        "\n",
        "<a href=\"https://www.kaggle.com/datasets/arashnic/book-recommendation-dataset\">Dataset: Book Recommendation Dataset</a>"
      ],
      "metadata": {
        "id": "mXj4XGTQihG4"
      }
    },
    {
      "cell_type": "markdown",
      "source": [
        "# Descrição do Problema\n",
        "\n",
        "O conjunto de dados do projeto foi feito para a implementação de um sistema de recomendação de livros, similar aos sistemas vistos em plataformas de e-commerce ou streaming de filmes, logo o objetivo principal é; Com base num título recomendar outras opções para o usuário."
      ],
      "metadata": {
        "id": "Ca3Qdjsko-_A"
      }
    },
    {
      "cell_type": "markdown",
      "source": [
        "# Hipóteses do Problema\n",
        "\n",
        "- Usuários de diferentes faixas etárias possuem padrões de avaliações diferentes ?\n",
        "\n",
        "- Autores possuem uma variação de avaliação muito grande ?\n",
        "\n",
        "- Há correlação entre a idade do usuário e a idade do livro avaliado ?"
      ],
      "metadata": {
        "id": "HyVAzEu6zMAf"
      }
    },
    {
      "cell_type": "markdown",
      "source": [
        "# Tipo do problema\n",
        "\n",
        "Este é um problema de classificação **não supervisionado**, visto que não existe um atributo alvo para o problema, e sim como base num livro, que outros livros um usuário pode gostar e para isso podemos usar algumas abordagens diferentes, como filtragem colaborativa, SVD ou K-means\n"
      ],
      "metadata": {
        "id": "jRaAGiHhf9kq"
      }
    },
    {
      "cell_type": "markdown",
      "source": [
        "# Abordagem alternativa\n",
        "\n",
        "O objetivo principal do dataset é recomendação de livros, porém ele também possui um atributo \"rating\", a nota de um determinado livro, o que torna o dataset viável também para um abordagem de classificação **supervisionada** onde dado um conjunto de características o objetivo seria prever a nota aproximada de um livro. Porém para essa abordagem o dataset precisaria ser enriquecido com algumas informações, como número de páginas do livro e gênero."
      ],
      "metadata": {
        "id": "4mXxnjUZg-OH"
      }
    },
    {
      "cell_type": "markdown",
      "source": [
        "# Atributos do Dataset\n",
        "\n",
        " O dataset está dividido em 3 documentos csv\n",
        "\n",
        "<h3>Users</h3>\n",
        "\n",
        "- *User-ID* (Identificação anonimizada do usuário)\n",
        "\n",
        "- *Location* (localização do usuário, quando disponível)\n",
        "\n",
        "- *Age* (Idade do usuário, quando disponível)\n",
        "\n",
        "<h3>Books</h3>\n",
        "\n",
        "- *ISBN* (*International Standard Book Number*, ID internacional de um livro)\n",
        "\n",
        "- *Book-Title* (Título do livro)\n",
        "\n",
        "- *Book-Author* (Autor do livro; Em caso de mais de um só o primeiro é mostrado)\n",
        "\n",
        "- *Year-Of-Publication* (Ano da publicação - formato yyyy)\n",
        "\n",
        "- *Publisher* (Editora que publicou o livro)\n",
        "\n",
        "- *Image-URL-S* (Link da amazon para a capa do livro tamanho pequeno)\n",
        "- *Image-URL-M* (Link da amazon para a capa do livro tamanho médio)\n",
        "- *Image-URL-L* (Link da amazon para a capa do livro tamanho grande)\n",
        "\n",
        "<h3>Ratings</h3>\n",
        "\n",
        "- *User-ID* (Identificação anonimizada do usuário que avaliou o livro)\n",
        "- *ISBN* (ID internacional do livro avaliado)\n",
        "- *Book-Rating* (Nota recebida 0-10)"
      ],
      "metadata": {
        "id": "IWmljYIJhzIs"
      }
    },
    {
      "cell_type": "markdown",
      "source": [
        "# Seleção dos Dados\n",
        "\n",
        "Os dados foram coletados da plataforma bookcrossing.com entre agosto e setembro de 2004 contemplando 278,858 usários que fizeram 1,149,780 avaliações referentes à 271,379 livros"
      ],
      "metadata": {
        "id": "hVnr72LqnPb8"
      }
    },
    {
      "cell_type": "markdown",
      "source": [
        "# Importação das Bibliotecas Necessárias e Carga de Dados\n",
        "\n",
        "Esta seção consolida todas as importações de bibliotecas necessárias para a análise, visualização e pré-processamento dos dados, bem como o carregamento inicial dos diferentes arquivos que compõem o dataset."
      ],
      "metadata": {
        "id": "3YBSPSeUicQc"
      }
    },
    {
      "cell_type": "code",
      "source": [
        "import pandas as pd\n",
        "import numpy as np\n",
        "import matplotlib.pyplot as plt\n",
        "import seaborn as sns\n",
        "from sklearn.model_selection import train_test_split\n",
        "from sklearn.preprocessing import StandardScaler, MinMaxScaler, OneHotEncoder\n",
        "from sklearn.decomposition import PCA\n",
        "from sklearn.compose import ColumnTransformer\n",
        "from sklearn.pipeline import Pipeline"
      ],
      "metadata": {
        "id": "JU29l3wWikUU"
      },
      "execution_count": null,
      "outputs": []
    },
    {
      "cell_type": "code",
      "source": [
        "# setup das urls do github e criação dos dataframes\n",
        "\n",
        "url_users = \"https://raw.githubusercontent.com/gugazan/MVP-Analise-de-Dados-e-Boas-Praticas/refs/heads/main/files/Users.csv\"\n",
        "url_books = \"https://raw.githubusercontent.com/gugazan/MVP-Analise-de-Dados-e-Boas-Praticas/refs/heads/main/files/books.csv\"\n",
        "url_ratings = \"https://raw.githubusercontent.com/gugazan/MVP-Analise-de-Dados-e-Boas-Praticas/refs/heads/main/files/ratings.csv\"\n",
        "\n",
        "df_users = pd.read_csv(url_users, on_bad_lines='skip')\n",
        "df_books = pd.read_csv(url_books, on_bad_lines='skip')\n",
        "df_ratings = pd.read_csv(url_ratings, on_bad_lines='skip')"
      ],
      "metadata": {
        "colab": {
          "base_uri": "https://localhost:8080/"
        },
        "id": "etoGnJSQiqgj",
        "outputId": "abb5807c-702b-4a9f-dda1-438acd79b3a0"
      },
      "execution_count": null,
      "outputs": [
        {
          "output_type": "stream",
          "name": "stderr",
          "text": [
            "/tmp/ipython-input-2-1954018534.py:8: DtypeWarning: Columns (3) have mixed types. Specify dtype option on import or set low_memory=False.\n",
            "  df_books = pd.read_csv(url_books, on_bad_lines='skip')\n"
          ]
        }
      ]
    },
    {
      "cell_type": "markdown",
      "source": [
        "**Importante notar que houve um warning relativo aos itens da coluna \"Year-Of-Publication\", algo que vamos tratar mais pra frente**"
      ],
      "metadata": {
        "id": "vQesTE_oxcFZ"
      }
    },
    {
      "cell_type": "code",
      "source": [
        "# primeiras linhas Users\n",
        "df_users.head()"
      ],
      "metadata": {
        "colab": {
          "base_uri": "https://localhost:8080/",
          "height": 206
        },
        "id": "Kigdij0GteKd",
        "outputId": "11dc86cd-21ca-441c-adee-14c758bbdd53"
      },
      "execution_count": null,
      "outputs": [
        {
          "output_type": "execute_result",
          "data": {
            "text/plain": [
              "   User-ID                            Location   Age\n",
              "0        1                  nyc, new york, usa   NaN\n",
              "1        2           stockton, california, usa  18.0\n",
              "2        3     moscow, yukon territory, russia   NaN\n",
              "3        4           porto, v.n.gaia, portugal  17.0\n",
              "4        5  farnborough, hants, united kingdom   NaN"
            ],
            "text/html": [
              "\n",
              "  <div id=\"df-962e9dea-3370-4e9f-8d75-983123820986\" class=\"colab-df-container\">\n",
              "    <div>\n",
              "<style scoped>\n",
              "    .dataframe tbody tr th:only-of-type {\n",
              "        vertical-align: middle;\n",
              "    }\n",
              "\n",
              "    .dataframe tbody tr th {\n",
              "        vertical-align: top;\n",
              "    }\n",
              "\n",
              "    .dataframe thead th {\n",
              "        text-align: right;\n",
              "    }\n",
              "</style>\n",
              "<table border=\"1\" class=\"dataframe\">\n",
              "  <thead>\n",
              "    <tr style=\"text-align: right;\">\n",
              "      <th></th>\n",
              "      <th>User-ID</th>\n",
              "      <th>Location</th>\n",
              "      <th>Age</th>\n",
              "    </tr>\n",
              "  </thead>\n",
              "  <tbody>\n",
              "    <tr>\n",
              "      <th>0</th>\n",
              "      <td>1</td>\n",
              "      <td>nyc, new york, usa</td>\n",
              "      <td>NaN</td>\n",
              "    </tr>\n",
              "    <tr>\n",
              "      <th>1</th>\n",
              "      <td>2</td>\n",
              "      <td>stockton, california, usa</td>\n",
              "      <td>18.0</td>\n",
              "    </tr>\n",
              "    <tr>\n",
              "      <th>2</th>\n",
              "      <td>3</td>\n",
              "      <td>moscow, yukon territory, russia</td>\n",
              "      <td>NaN</td>\n",
              "    </tr>\n",
              "    <tr>\n",
              "      <th>3</th>\n",
              "      <td>4</td>\n",
              "      <td>porto, v.n.gaia, portugal</td>\n",
              "      <td>17.0</td>\n",
              "    </tr>\n",
              "    <tr>\n",
              "      <th>4</th>\n",
              "      <td>5</td>\n",
              "      <td>farnborough, hants, united kingdom</td>\n",
              "      <td>NaN</td>\n",
              "    </tr>\n",
              "  </tbody>\n",
              "</table>\n",
              "</div>\n",
              "    <div class=\"colab-df-buttons\">\n",
              "\n",
              "  <div class=\"colab-df-container\">\n",
              "    <button class=\"colab-df-convert\" onclick=\"convertToInteractive('df-962e9dea-3370-4e9f-8d75-983123820986')\"\n",
              "            title=\"Convert this dataframe to an interactive table.\"\n",
              "            style=\"display:none;\">\n",
              "\n",
              "  <svg xmlns=\"http://www.w3.org/2000/svg\" height=\"24px\" viewBox=\"0 -960 960 960\">\n",
              "    <path d=\"M120-120v-720h720v720H120Zm60-500h600v-160H180v160Zm220 220h160v-160H400v160Zm0 220h160v-160H400v160ZM180-400h160v-160H180v160Zm440 0h160v-160H620v160ZM180-180h160v-160H180v160Zm440 0h160v-160H620v160Z\"/>\n",
              "  </svg>\n",
              "    </button>\n",
              "\n",
              "  <style>\n",
              "    .colab-df-container {\n",
              "      display:flex;\n",
              "      gap: 12px;\n",
              "    }\n",
              "\n",
              "    .colab-df-convert {\n",
              "      background-color: #E8F0FE;\n",
              "      border: none;\n",
              "      border-radius: 50%;\n",
              "      cursor: pointer;\n",
              "      display: none;\n",
              "      fill: #1967D2;\n",
              "      height: 32px;\n",
              "      padding: 0 0 0 0;\n",
              "      width: 32px;\n",
              "    }\n",
              "\n",
              "    .colab-df-convert:hover {\n",
              "      background-color: #E2EBFA;\n",
              "      box-shadow: 0px 1px 2px rgba(60, 64, 67, 0.3), 0px 1px 3px 1px rgba(60, 64, 67, 0.15);\n",
              "      fill: #174EA6;\n",
              "    }\n",
              "\n",
              "    .colab-df-buttons div {\n",
              "      margin-bottom: 4px;\n",
              "    }\n",
              "\n",
              "    [theme=dark] .colab-df-convert {\n",
              "      background-color: #3B4455;\n",
              "      fill: #D2E3FC;\n",
              "    }\n",
              "\n",
              "    [theme=dark] .colab-df-convert:hover {\n",
              "      background-color: #434B5C;\n",
              "      box-shadow: 0px 1px 3px 1px rgba(0, 0, 0, 0.15);\n",
              "      filter: drop-shadow(0px 1px 2px rgba(0, 0, 0, 0.3));\n",
              "      fill: #FFFFFF;\n",
              "    }\n",
              "  </style>\n",
              "\n",
              "    <script>\n",
              "      const buttonEl =\n",
              "        document.querySelector('#df-962e9dea-3370-4e9f-8d75-983123820986 button.colab-df-convert');\n",
              "      buttonEl.style.display =\n",
              "        google.colab.kernel.accessAllowed ? 'block' : 'none';\n",
              "\n",
              "      async function convertToInteractive(key) {\n",
              "        const element = document.querySelector('#df-962e9dea-3370-4e9f-8d75-983123820986');\n",
              "        const dataTable =\n",
              "          await google.colab.kernel.invokeFunction('convertToInteractive',\n",
              "                                                    [key], {});\n",
              "        if (!dataTable) return;\n",
              "\n",
              "        const docLinkHtml = 'Like what you see? Visit the ' +\n",
              "          '<a target=\"_blank\" href=https://colab.research.google.com/notebooks/data_table.ipynb>data table notebook</a>'\n",
              "          + ' to learn more about interactive tables.';\n",
              "        element.innerHTML = '';\n",
              "        dataTable['output_type'] = 'display_data';\n",
              "        await google.colab.output.renderOutput(dataTable, element);\n",
              "        const docLink = document.createElement('div');\n",
              "        docLink.innerHTML = docLinkHtml;\n",
              "        element.appendChild(docLink);\n",
              "      }\n",
              "    </script>\n",
              "  </div>\n",
              "\n",
              "\n",
              "    <div id=\"df-7564b2a1-d7d4-434d-a791-d092bbd40ba6\">\n",
              "      <button class=\"colab-df-quickchart\" onclick=\"quickchart('df-7564b2a1-d7d4-434d-a791-d092bbd40ba6')\"\n",
              "                title=\"Suggest charts\"\n",
              "                style=\"display:none;\">\n",
              "\n",
              "<svg xmlns=\"http://www.w3.org/2000/svg\" height=\"24px\"viewBox=\"0 0 24 24\"\n",
              "     width=\"24px\">\n",
              "    <g>\n",
              "        <path d=\"M19 3H5c-1.1 0-2 .9-2 2v14c0 1.1.9 2 2 2h14c1.1 0 2-.9 2-2V5c0-1.1-.9-2-2-2zM9 17H7v-7h2v7zm4 0h-2V7h2v10zm4 0h-2v-4h2v4z\"/>\n",
              "    </g>\n",
              "</svg>\n",
              "      </button>\n",
              "\n",
              "<style>\n",
              "  .colab-df-quickchart {\n",
              "      --bg-color: #E8F0FE;\n",
              "      --fill-color: #1967D2;\n",
              "      --hover-bg-color: #E2EBFA;\n",
              "      --hover-fill-color: #174EA6;\n",
              "      --disabled-fill-color: #AAA;\n",
              "      --disabled-bg-color: #DDD;\n",
              "  }\n",
              "\n",
              "  [theme=dark] .colab-df-quickchart {\n",
              "      --bg-color: #3B4455;\n",
              "      --fill-color: #D2E3FC;\n",
              "      --hover-bg-color: #434B5C;\n",
              "      --hover-fill-color: #FFFFFF;\n",
              "      --disabled-bg-color: #3B4455;\n",
              "      --disabled-fill-color: #666;\n",
              "  }\n",
              "\n",
              "  .colab-df-quickchart {\n",
              "    background-color: var(--bg-color);\n",
              "    border: none;\n",
              "    border-radius: 50%;\n",
              "    cursor: pointer;\n",
              "    display: none;\n",
              "    fill: var(--fill-color);\n",
              "    height: 32px;\n",
              "    padding: 0;\n",
              "    width: 32px;\n",
              "  }\n",
              "\n",
              "  .colab-df-quickchart:hover {\n",
              "    background-color: var(--hover-bg-color);\n",
              "    box-shadow: 0 1px 2px rgba(60, 64, 67, 0.3), 0 1px 3px 1px rgba(60, 64, 67, 0.15);\n",
              "    fill: var(--button-hover-fill-color);\n",
              "  }\n",
              "\n",
              "  .colab-df-quickchart-complete:disabled,\n",
              "  .colab-df-quickchart-complete:disabled:hover {\n",
              "    background-color: var(--disabled-bg-color);\n",
              "    fill: var(--disabled-fill-color);\n",
              "    box-shadow: none;\n",
              "  }\n",
              "\n",
              "  .colab-df-spinner {\n",
              "    border: 2px solid var(--fill-color);\n",
              "    border-color: transparent;\n",
              "    border-bottom-color: var(--fill-color);\n",
              "    animation:\n",
              "      spin 1s steps(1) infinite;\n",
              "  }\n",
              "\n",
              "  @keyframes spin {\n",
              "    0% {\n",
              "      border-color: transparent;\n",
              "      border-bottom-color: var(--fill-color);\n",
              "      border-left-color: var(--fill-color);\n",
              "    }\n",
              "    20% {\n",
              "      border-color: transparent;\n",
              "      border-left-color: var(--fill-color);\n",
              "      border-top-color: var(--fill-color);\n",
              "    }\n",
              "    30% {\n",
              "      border-color: transparent;\n",
              "      border-left-color: var(--fill-color);\n",
              "      border-top-color: var(--fill-color);\n",
              "      border-right-color: var(--fill-color);\n",
              "    }\n",
              "    40% {\n",
              "      border-color: transparent;\n",
              "      border-right-color: var(--fill-color);\n",
              "      border-top-color: var(--fill-color);\n",
              "    }\n",
              "    60% {\n",
              "      border-color: transparent;\n",
              "      border-right-color: var(--fill-color);\n",
              "    }\n",
              "    80% {\n",
              "      border-color: transparent;\n",
              "      border-right-color: var(--fill-color);\n",
              "      border-bottom-color: var(--fill-color);\n",
              "    }\n",
              "    90% {\n",
              "      border-color: transparent;\n",
              "      border-bottom-color: var(--fill-color);\n",
              "    }\n",
              "  }\n",
              "</style>\n",
              "\n",
              "      <script>\n",
              "        async function quickchart(key) {\n",
              "          const quickchartButtonEl =\n",
              "            document.querySelector('#' + key + ' button');\n",
              "          quickchartButtonEl.disabled = true;  // To prevent multiple clicks.\n",
              "          quickchartButtonEl.classList.add('colab-df-spinner');\n",
              "          try {\n",
              "            const charts = await google.colab.kernel.invokeFunction(\n",
              "                'suggestCharts', [key], {});\n",
              "          } catch (error) {\n",
              "            console.error('Error during call to suggestCharts:', error);\n",
              "          }\n",
              "          quickchartButtonEl.classList.remove('colab-df-spinner');\n",
              "          quickchartButtonEl.classList.add('colab-df-quickchart-complete');\n",
              "        }\n",
              "        (() => {\n",
              "          let quickchartButtonEl =\n",
              "            document.querySelector('#df-7564b2a1-d7d4-434d-a791-d092bbd40ba6 button');\n",
              "          quickchartButtonEl.style.display =\n",
              "            google.colab.kernel.accessAllowed ? 'block' : 'none';\n",
              "        })();\n",
              "      </script>\n",
              "    </div>\n",
              "\n",
              "    </div>\n",
              "  </div>\n"
            ],
            "application/vnd.google.colaboratory.intrinsic+json": {
              "type": "dataframe",
              "variable_name": "df_users"
            }
          },
          "metadata": {},
          "execution_count": 3
        }
      ]
    },
    {
      "cell_type": "code",
      "source": [
        "# primeiras linhas Books\n",
        "df_books.head()"
      ],
      "metadata": {
        "colab": {
          "base_uri": "https://localhost:8080/",
          "height": 434
        },
        "id": "fmI75cpwxsvR",
        "outputId": "44113b9c-9f42-4bff-d0d3-b8808e966948"
      },
      "execution_count": null,
      "outputs": [
        {
          "output_type": "execute_result",
          "data": {
            "text/plain": [
              "         ISBN                                         Book-Title  \\\n",
              "0  0195153448                                Classical Mythology   \n",
              "1  0002005018                                       Clara Callan   \n",
              "2  0060973129                               Decision in Normandy   \n",
              "3  0374157065  Flu: The Story of the Great Influenza Pandemic...   \n",
              "4  0393045218                             The Mummies of Urumchi   \n",
              "\n",
              "            Book-Author Year-Of-Publication                   Publisher  \\\n",
              "0    Mark P. O. Morford                2002     Oxford University Press   \n",
              "1  Richard Bruce Wright                2001       HarperFlamingo Canada   \n",
              "2          Carlo D'Este                1991             HarperPerennial   \n",
              "3      Gina Bari Kolata                1999        Farrar Straus Giroux   \n",
              "4       E. J. W. Barber                1999  W. W. Norton &amp; Company   \n",
              "\n",
              "                                         Image-URL-S  \\\n",
              "0  http://images.amazon.com/images/P/0195153448.0...   \n",
              "1  http://images.amazon.com/images/P/0002005018.0...   \n",
              "2  http://images.amazon.com/images/P/0060973129.0...   \n",
              "3  http://images.amazon.com/images/P/0374157065.0...   \n",
              "4  http://images.amazon.com/images/P/0393045218.0...   \n",
              "\n",
              "                                         Image-URL-M  \\\n",
              "0  http://images.amazon.com/images/P/0195153448.0...   \n",
              "1  http://images.amazon.com/images/P/0002005018.0...   \n",
              "2  http://images.amazon.com/images/P/0060973129.0...   \n",
              "3  http://images.amazon.com/images/P/0374157065.0...   \n",
              "4  http://images.amazon.com/images/P/0393045218.0...   \n",
              "\n",
              "                                         Image-URL-L  \n",
              "0  http://images.amazon.com/images/P/0195153448.0...  \n",
              "1  http://images.amazon.com/images/P/0002005018.0...  \n",
              "2  http://images.amazon.com/images/P/0060973129.0...  \n",
              "3  http://images.amazon.com/images/P/0374157065.0...  \n",
              "4  http://images.amazon.com/images/P/0393045218.0...  "
            ],
            "text/html": [
              "\n",
              "  <div id=\"df-22abfa5e-d116-4a71-a408-c2438eb1a7e7\" class=\"colab-df-container\">\n",
              "    <div>\n",
              "<style scoped>\n",
              "    .dataframe tbody tr th:only-of-type {\n",
              "        vertical-align: middle;\n",
              "    }\n",
              "\n",
              "    .dataframe tbody tr th {\n",
              "        vertical-align: top;\n",
              "    }\n",
              "\n",
              "    .dataframe thead th {\n",
              "        text-align: right;\n",
              "    }\n",
              "</style>\n",
              "<table border=\"1\" class=\"dataframe\">\n",
              "  <thead>\n",
              "    <tr style=\"text-align: right;\">\n",
              "      <th></th>\n",
              "      <th>ISBN</th>\n",
              "      <th>Book-Title</th>\n",
              "      <th>Book-Author</th>\n",
              "      <th>Year-Of-Publication</th>\n",
              "      <th>Publisher</th>\n",
              "      <th>Image-URL-S</th>\n",
              "      <th>Image-URL-M</th>\n",
              "      <th>Image-URL-L</th>\n",
              "    </tr>\n",
              "  </thead>\n",
              "  <tbody>\n",
              "    <tr>\n",
              "      <th>0</th>\n",
              "      <td>0195153448</td>\n",
              "      <td>Classical Mythology</td>\n",
              "      <td>Mark P. O. Morford</td>\n",
              "      <td>2002</td>\n",
              "      <td>Oxford University Press</td>\n",
              "      <td>http://images.amazon.com/images/P/0195153448.0...</td>\n",
              "      <td>http://images.amazon.com/images/P/0195153448.0...</td>\n",
              "      <td>http://images.amazon.com/images/P/0195153448.0...</td>\n",
              "    </tr>\n",
              "    <tr>\n",
              "      <th>1</th>\n",
              "      <td>0002005018</td>\n",
              "      <td>Clara Callan</td>\n",
              "      <td>Richard Bruce Wright</td>\n",
              "      <td>2001</td>\n",
              "      <td>HarperFlamingo Canada</td>\n",
              "      <td>http://images.amazon.com/images/P/0002005018.0...</td>\n",
              "      <td>http://images.amazon.com/images/P/0002005018.0...</td>\n",
              "      <td>http://images.amazon.com/images/P/0002005018.0...</td>\n",
              "    </tr>\n",
              "    <tr>\n",
              "      <th>2</th>\n",
              "      <td>0060973129</td>\n",
              "      <td>Decision in Normandy</td>\n",
              "      <td>Carlo D'Este</td>\n",
              "      <td>1991</td>\n",
              "      <td>HarperPerennial</td>\n",
              "      <td>http://images.amazon.com/images/P/0060973129.0...</td>\n",
              "      <td>http://images.amazon.com/images/P/0060973129.0...</td>\n",
              "      <td>http://images.amazon.com/images/P/0060973129.0...</td>\n",
              "    </tr>\n",
              "    <tr>\n",
              "      <th>3</th>\n",
              "      <td>0374157065</td>\n",
              "      <td>Flu: The Story of the Great Influenza Pandemic...</td>\n",
              "      <td>Gina Bari Kolata</td>\n",
              "      <td>1999</td>\n",
              "      <td>Farrar Straus Giroux</td>\n",
              "      <td>http://images.amazon.com/images/P/0374157065.0...</td>\n",
              "      <td>http://images.amazon.com/images/P/0374157065.0...</td>\n",
              "      <td>http://images.amazon.com/images/P/0374157065.0...</td>\n",
              "    </tr>\n",
              "    <tr>\n",
              "      <th>4</th>\n",
              "      <td>0393045218</td>\n",
              "      <td>The Mummies of Urumchi</td>\n",
              "      <td>E. J. W. Barber</td>\n",
              "      <td>1999</td>\n",
              "      <td>W. W. Norton &amp;amp; Company</td>\n",
              "      <td>http://images.amazon.com/images/P/0393045218.0...</td>\n",
              "      <td>http://images.amazon.com/images/P/0393045218.0...</td>\n",
              "      <td>http://images.amazon.com/images/P/0393045218.0...</td>\n",
              "    </tr>\n",
              "  </tbody>\n",
              "</table>\n",
              "</div>\n",
              "    <div class=\"colab-df-buttons\">\n",
              "\n",
              "  <div class=\"colab-df-container\">\n",
              "    <button class=\"colab-df-convert\" onclick=\"convertToInteractive('df-22abfa5e-d116-4a71-a408-c2438eb1a7e7')\"\n",
              "            title=\"Convert this dataframe to an interactive table.\"\n",
              "            style=\"display:none;\">\n",
              "\n",
              "  <svg xmlns=\"http://www.w3.org/2000/svg\" height=\"24px\" viewBox=\"0 -960 960 960\">\n",
              "    <path d=\"M120-120v-720h720v720H120Zm60-500h600v-160H180v160Zm220 220h160v-160H400v160Zm0 220h160v-160H400v160ZM180-400h160v-160H180v160Zm440 0h160v-160H620v160ZM180-180h160v-160H180v160Zm440 0h160v-160H620v160Z\"/>\n",
              "  </svg>\n",
              "    </button>\n",
              "\n",
              "  <style>\n",
              "    .colab-df-container {\n",
              "      display:flex;\n",
              "      gap: 12px;\n",
              "    }\n",
              "\n",
              "    .colab-df-convert {\n",
              "      background-color: #E8F0FE;\n",
              "      border: none;\n",
              "      border-radius: 50%;\n",
              "      cursor: pointer;\n",
              "      display: none;\n",
              "      fill: #1967D2;\n",
              "      height: 32px;\n",
              "      padding: 0 0 0 0;\n",
              "      width: 32px;\n",
              "    }\n",
              "\n",
              "    .colab-df-convert:hover {\n",
              "      background-color: #E2EBFA;\n",
              "      box-shadow: 0px 1px 2px rgba(60, 64, 67, 0.3), 0px 1px 3px 1px rgba(60, 64, 67, 0.15);\n",
              "      fill: #174EA6;\n",
              "    }\n",
              "\n",
              "    .colab-df-buttons div {\n",
              "      margin-bottom: 4px;\n",
              "    }\n",
              "\n",
              "    [theme=dark] .colab-df-convert {\n",
              "      background-color: #3B4455;\n",
              "      fill: #D2E3FC;\n",
              "    }\n",
              "\n",
              "    [theme=dark] .colab-df-convert:hover {\n",
              "      background-color: #434B5C;\n",
              "      box-shadow: 0px 1px 3px 1px rgba(0, 0, 0, 0.15);\n",
              "      filter: drop-shadow(0px 1px 2px rgba(0, 0, 0, 0.3));\n",
              "      fill: #FFFFFF;\n",
              "    }\n",
              "  </style>\n",
              "\n",
              "    <script>\n",
              "      const buttonEl =\n",
              "        document.querySelector('#df-22abfa5e-d116-4a71-a408-c2438eb1a7e7 button.colab-df-convert');\n",
              "      buttonEl.style.display =\n",
              "        google.colab.kernel.accessAllowed ? 'block' : 'none';\n",
              "\n",
              "      async function convertToInteractive(key) {\n",
              "        const element = document.querySelector('#df-22abfa5e-d116-4a71-a408-c2438eb1a7e7');\n",
              "        const dataTable =\n",
              "          await google.colab.kernel.invokeFunction('convertToInteractive',\n",
              "                                                    [key], {});\n",
              "        if (!dataTable) return;\n",
              "\n",
              "        const docLinkHtml = 'Like what you see? Visit the ' +\n",
              "          '<a target=\"_blank\" href=https://colab.research.google.com/notebooks/data_table.ipynb>data table notebook</a>'\n",
              "          + ' to learn more about interactive tables.';\n",
              "        element.innerHTML = '';\n",
              "        dataTable['output_type'] = 'display_data';\n",
              "        await google.colab.output.renderOutput(dataTable, element);\n",
              "        const docLink = document.createElement('div');\n",
              "        docLink.innerHTML = docLinkHtml;\n",
              "        element.appendChild(docLink);\n",
              "      }\n",
              "    </script>\n",
              "  </div>\n",
              "\n",
              "\n",
              "    <div id=\"df-31b96e8b-7844-409b-af7e-b112e54131ed\">\n",
              "      <button class=\"colab-df-quickchart\" onclick=\"quickchart('df-31b96e8b-7844-409b-af7e-b112e54131ed')\"\n",
              "                title=\"Suggest charts\"\n",
              "                style=\"display:none;\">\n",
              "\n",
              "<svg xmlns=\"http://www.w3.org/2000/svg\" height=\"24px\"viewBox=\"0 0 24 24\"\n",
              "     width=\"24px\">\n",
              "    <g>\n",
              "        <path d=\"M19 3H5c-1.1 0-2 .9-2 2v14c0 1.1.9 2 2 2h14c1.1 0 2-.9 2-2V5c0-1.1-.9-2-2-2zM9 17H7v-7h2v7zm4 0h-2V7h2v10zm4 0h-2v-4h2v4z\"/>\n",
              "    </g>\n",
              "</svg>\n",
              "      </button>\n",
              "\n",
              "<style>\n",
              "  .colab-df-quickchart {\n",
              "      --bg-color: #E8F0FE;\n",
              "      --fill-color: #1967D2;\n",
              "      --hover-bg-color: #E2EBFA;\n",
              "      --hover-fill-color: #174EA6;\n",
              "      --disabled-fill-color: #AAA;\n",
              "      --disabled-bg-color: #DDD;\n",
              "  }\n",
              "\n",
              "  [theme=dark] .colab-df-quickchart {\n",
              "      --bg-color: #3B4455;\n",
              "      --fill-color: #D2E3FC;\n",
              "      --hover-bg-color: #434B5C;\n",
              "      --hover-fill-color: #FFFFFF;\n",
              "      --disabled-bg-color: #3B4455;\n",
              "      --disabled-fill-color: #666;\n",
              "  }\n",
              "\n",
              "  .colab-df-quickchart {\n",
              "    background-color: var(--bg-color);\n",
              "    border: none;\n",
              "    border-radius: 50%;\n",
              "    cursor: pointer;\n",
              "    display: none;\n",
              "    fill: var(--fill-color);\n",
              "    height: 32px;\n",
              "    padding: 0;\n",
              "    width: 32px;\n",
              "  }\n",
              "\n",
              "  .colab-df-quickchart:hover {\n",
              "    background-color: var(--hover-bg-color);\n",
              "    box-shadow: 0 1px 2px rgba(60, 64, 67, 0.3), 0 1px 3px 1px rgba(60, 64, 67, 0.15);\n",
              "    fill: var(--button-hover-fill-color);\n",
              "  }\n",
              "\n",
              "  .colab-df-quickchart-complete:disabled,\n",
              "  .colab-df-quickchart-complete:disabled:hover {\n",
              "    background-color: var(--disabled-bg-color);\n",
              "    fill: var(--disabled-fill-color);\n",
              "    box-shadow: none;\n",
              "  }\n",
              "\n",
              "  .colab-df-spinner {\n",
              "    border: 2px solid var(--fill-color);\n",
              "    border-color: transparent;\n",
              "    border-bottom-color: var(--fill-color);\n",
              "    animation:\n",
              "      spin 1s steps(1) infinite;\n",
              "  }\n",
              "\n",
              "  @keyframes spin {\n",
              "    0% {\n",
              "      border-color: transparent;\n",
              "      border-bottom-color: var(--fill-color);\n",
              "      border-left-color: var(--fill-color);\n",
              "    }\n",
              "    20% {\n",
              "      border-color: transparent;\n",
              "      border-left-color: var(--fill-color);\n",
              "      border-top-color: var(--fill-color);\n",
              "    }\n",
              "    30% {\n",
              "      border-color: transparent;\n",
              "      border-left-color: var(--fill-color);\n",
              "      border-top-color: var(--fill-color);\n",
              "      border-right-color: var(--fill-color);\n",
              "    }\n",
              "    40% {\n",
              "      border-color: transparent;\n",
              "      border-right-color: var(--fill-color);\n",
              "      border-top-color: var(--fill-color);\n",
              "    }\n",
              "    60% {\n",
              "      border-color: transparent;\n",
              "      border-right-color: var(--fill-color);\n",
              "    }\n",
              "    80% {\n",
              "      border-color: transparent;\n",
              "      border-right-color: var(--fill-color);\n",
              "      border-bottom-color: var(--fill-color);\n",
              "    }\n",
              "    90% {\n",
              "      border-color: transparent;\n",
              "      border-bottom-color: var(--fill-color);\n",
              "    }\n",
              "  }\n",
              "</style>\n",
              "\n",
              "      <script>\n",
              "        async function quickchart(key) {\n",
              "          const quickchartButtonEl =\n",
              "            document.querySelector('#' + key + ' button');\n",
              "          quickchartButtonEl.disabled = true;  // To prevent multiple clicks.\n",
              "          quickchartButtonEl.classList.add('colab-df-spinner');\n",
              "          try {\n",
              "            const charts = await google.colab.kernel.invokeFunction(\n",
              "                'suggestCharts', [key], {});\n",
              "          } catch (error) {\n",
              "            console.error('Error during call to suggestCharts:', error);\n",
              "          }\n",
              "          quickchartButtonEl.classList.remove('colab-df-spinner');\n",
              "          quickchartButtonEl.classList.add('colab-df-quickchart-complete');\n",
              "        }\n",
              "        (() => {\n",
              "          let quickchartButtonEl =\n",
              "            document.querySelector('#df-31b96e8b-7844-409b-af7e-b112e54131ed button');\n",
              "          quickchartButtonEl.style.display =\n",
              "            google.colab.kernel.accessAllowed ? 'block' : 'none';\n",
              "        })();\n",
              "      </script>\n",
              "    </div>\n",
              "\n",
              "    </div>\n",
              "  </div>\n"
            ],
            "application/vnd.google.colaboratory.intrinsic+json": {
              "type": "dataframe",
              "variable_name": "df_books"
            }
          },
          "metadata": {},
          "execution_count": 4
        }
      ]
    },
    {
      "cell_type": "code",
      "source": [
        "# primeiras linhas Ratings\n",
        "df_ratings.head()"
      ],
      "metadata": {
        "colab": {
          "base_uri": "https://localhost:8080/",
          "height": 206
        },
        "id": "k-8RxqcFxzLQ",
        "outputId": "286de0ba-e462-4495-d8de-6ba2c15011b4"
      },
      "execution_count": null,
      "outputs": [
        {
          "output_type": "execute_result",
          "data": {
            "text/plain": [
              "   User-ID        ISBN  Book-Rating\n",
              "0   276725  034545104X            0\n",
              "1   276726  0155061224            5\n",
              "2   276727  0446520802            0\n",
              "3   276729  052165615X            3\n",
              "4   276729  0521795028            6"
            ],
            "text/html": [
              "\n",
              "  <div id=\"df-6f2c28e2-9cda-49b2-ba20-032425baae13\" class=\"colab-df-container\">\n",
              "    <div>\n",
              "<style scoped>\n",
              "    .dataframe tbody tr th:only-of-type {\n",
              "        vertical-align: middle;\n",
              "    }\n",
              "\n",
              "    .dataframe tbody tr th {\n",
              "        vertical-align: top;\n",
              "    }\n",
              "\n",
              "    .dataframe thead th {\n",
              "        text-align: right;\n",
              "    }\n",
              "</style>\n",
              "<table border=\"1\" class=\"dataframe\">\n",
              "  <thead>\n",
              "    <tr style=\"text-align: right;\">\n",
              "      <th></th>\n",
              "      <th>User-ID</th>\n",
              "      <th>ISBN</th>\n",
              "      <th>Book-Rating</th>\n",
              "    </tr>\n",
              "  </thead>\n",
              "  <tbody>\n",
              "    <tr>\n",
              "      <th>0</th>\n",
              "      <td>276725</td>\n",
              "      <td>034545104X</td>\n",
              "      <td>0</td>\n",
              "    </tr>\n",
              "    <tr>\n",
              "      <th>1</th>\n",
              "      <td>276726</td>\n",
              "      <td>0155061224</td>\n",
              "      <td>5</td>\n",
              "    </tr>\n",
              "    <tr>\n",
              "      <th>2</th>\n",
              "      <td>276727</td>\n",
              "      <td>0446520802</td>\n",
              "      <td>0</td>\n",
              "    </tr>\n",
              "    <tr>\n",
              "      <th>3</th>\n",
              "      <td>276729</td>\n",
              "      <td>052165615X</td>\n",
              "      <td>3</td>\n",
              "    </tr>\n",
              "    <tr>\n",
              "      <th>4</th>\n",
              "      <td>276729</td>\n",
              "      <td>0521795028</td>\n",
              "      <td>6</td>\n",
              "    </tr>\n",
              "  </tbody>\n",
              "</table>\n",
              "</div>\n",
              "    <div class=\"colab-df-buttons\">\n",
              "\n",
              "  <div class=\"colab-df-container\">\n",
              "    <button class=\"colab-df-convert\" onclick=\"convertToInteractive('df-6f2c28e2-9cda-49b2-ba20-032425baae13')\"\n",
              "            title=\"Convert this dataframe to an interactive table.\"\n",
              "            style=\"display:none;\">\n",
              "\n",
              "  <svg xmlns=\"http://www.w3.org/2000/svg\" height=\"24px\" viewBox=\"0 -960 960 960\">\n",
              "    <path d=\"M120-120v-720h720v720H120Zm60-500h600v-160H180v160Zm220 220h160v-160H400v160Zm0 220h160v-160H400v160ZM180-400h160v-160H180v160Zm440 0h160v-160H620v160ZM180-180h160v-160H180v160Zm440 0h160v-160H620v160Z\"/>\n",
              "  </svg>\n",
              "    </button>\n",
              "\n",
              "  <style>\n",
              "    .colab-df-container {\n",
              "      display:flex;\n",
              "      gap: 12px;\n",
              "    }\n",
              "\n",
              "    .colab-df-convert {\n",
              "      background-color: #E8F0FE;\n",
              "      border: none;\n",
              "      border-radius: 50%;\n",
              "      cursor: pointer;\n",
              "      display: none;\n",
              "      fill: #1967D2;\n",
              "      height: 32px;\n",
              "      padding: 0 0 0 0;\n",
              "      width: 32px;\n",
              "    }\n",
              "\n",
              "    .colab-df-convert:hover {\n",
              "      background-color: #E2EBFA;\n",
              "      box-shadow: 0px 1px 2px rgba(60, 64, 67, 0.3), 0px 1px 3px 1px rgba(60, 64, 67, 0.15);\n",
              "      fill: #174EA6;\n",
              "    }\n",
              "\n",
              "    .colab-df-buttons div {\n",
              "      margin-bottom: 4px;\n",
              "    }\n",
              "\n",
              "    [theme=dark] .colab-df-convert {\n",
              "      background-color: #3B4455;\n",
              "      fill: #D2E3FC;\n",
              "    }\n",
              "\n",
              "    [theme=dark] .colab-df-convert:hover {\n",
              "      background-color: #434B5C;\n",
              "      box-shadow: 0px 1px 3px 1px rgba(0, 0, 0, 0.15);\n",
              "      filter: drop-shadow(0px 1px 2px rgba(0, 0, 0, 0.3));\n",
              "      fill: #FFFFFF;\n",
              "    }\n",
              "  </style>\n",
              "\n",
              "    <script>\n",
              "      const buttonEl =\n",
              "        document.querySelector('#df-6f2c28e2-9cda-49b2-ba20-032425baae13 button.colab-df-convert');\n",
              "      buttonEl.style.display =\n",
              "        google.colab.kernel.accessAllowed ? 'block' : 'none';\n",
              "\n",
              "      async function convertToInteractive(key) {\n",
              "        const element = document.querySelector('#df-6f2c28e2-9cda-49b2-ba20-032425baae13');\n",
              "        const dataTable =\n",
              "          await google.colab.kernel.invokeFunction('convertToInteractive',\n",
              "                                                    [key], {});\n",
              "        if (!dataTable) return;\n",
              "\n",
              "        const docLinkHtml = 'Like what you see? Visit the ' +\n",
              "          '<a target=\"_blank\" href=https://colab.research.google.com/notebooks/data_table.ipynb>data table notebook</a>'\n",
              "          + ' to learn more about interactive tables.';\n",
              "        element.innerHTML = '';\n",
              "        dataTable['output_type'] = 'display_data';\n",
              "        await google.colab.output.renderOutput(dataTable, element);\n",
              "        const docLink = document.createElement('div');\n",
              "        docLink.innerHTML = docLinkHtml;\n",
              "        element.appendChild(docLink);\n",
              "      }\n",
              "    </script>\n",
              "  </div>\n",
              "\n",
              "\n",
              "    <div id=\"df-471b3a91-643f-46f0-a3d7-90bba25189a8\">\n",
              "      <button class=\"colab-df-quickchart\" onclick=\"quickchart('df-471b3a91-643f-46f0-a3d7-90bba25189a8')\"\n",
              "                title=\"Suggest charts\"\n",
              "                style=\"display:none;\">\n",
              "\n",
              "<svg xmlns=\"http://www.w3.org/2000/svg\" height=\"24px\"viewBox=\"0 0 24 24\"\n",
              "     width=\"24px\">\n",
              "    <g>\n",
              "        <path d=\"M19 3H5c-1.1 0-2 .9-2 2v14c0 1.1.9 2 2 2h14c1.1 0 2-.9 2-2V5c0-1.1-.9-2-2-2zM9 17H7v-7h2v7zm4 0h-2V7h2v10zm4 0h-2v-4h2v4z\"/>\n",
              "    </g>\n",
              "</svg>\n",
              "      </button>\n",
              "\n",
              "<style>\n",
              "  .colab-df-quickchart {\n",
              "      --bg-color: #E8F0FE;\n",
              "      --fill-color: #1967D2;\n",
              "      --hover-bg-color: #E2EBFA;\n",
              "      --hover-fill-color: #174EA6;\n",
              "      --disabled-fill-color: #AAA;\n",
              "      --disabled-bg-color: #DDD;\n",
              "  }\n",
              "\n",
              "  [theme=dark] .colab-df-quickchart {\n",
              "      --bg-color: #3B4455;\n",
              "      --fill-color: #D2E3FC;\n",
              "      --hover-bg-color: #434B5C;\n",
              "      --hover-fill-color: #FFFFFF;\n",
              "      --disabled-bg-color: #3B4455;\n",
              "      --disabled-fill-color: #666;\n",
              "  }\n",
              "\n",
              "  .colab-df-quickchart {\n",
              "    background-color: var(--bg-color);\n",
              "    border: none;\n",
              "    border-radius: 50%;\n",
              "    cursor: pointer;\n",
              "    display: none;\n",
              "    fill: var(--fill-color);\n",
              "    height: 32px;\n",
              "    padding: 0;\n",
              "    width: 32px;\n",
              "  }\n",
              "\n",
              "  .colab-df-quickchart:hover {\n",
              "    background-color: var(--hover-bg-color);\n",
              "    box-shadow: 0 1px 2px rgba(60, 64, 67, 0.3), 0 1px 3px 1px rgba(60, 64, 67, 0.15);\n",
              "    fill: var(--button-hover-fill-color);\n",
              "  }\n",
              "\n",
              "  .colab-df-quickchart-complete:disabled,\n",
              "  .colab-df-quickchart-complete:disabled:hover {\n",
              "    background-color: var(--disabled-bg-color);\n",
              "    fill: var(--disabled-fill-color);\n",
              "    box-shadow: none;\n",
              "  }\n",
              "\n",
              "  .colab-df-spinner {\n",
              "    border: 2px solid var(--fill-color);\n",
              "    border-color: transparent;\n",
              "    border-bottom-color: var(--fill-color);\n",
              "    animation:\n",
              "      spin 1s steps(1) infinite;\n",
              "  }\n",
              "\n",
              "  @keyframes spin {\n",
              "    0% {\n",
              "      border-color: transparent;\n",
              "      border-bottom-color: var(--fill-color);\n",
              "      border-left-color: var(--fill-color);\n",
              "    }\n",
              "    20% {\n",
              "      border-color: transparent;\n",
              "      border-left-color: var(--fill-color);\n",
              "      border-top-color: var(--fill-color);\n",
              "    }\n",
              "    30% {\n",
              "      border-color: transparent;\n",
              "      border-left-color: var(--fill-color);\n",
              "      border-top-color: var(--fill-color);\n",
              "      border-right-color: var(--fill-color);\n",
              "    }\n",
              "    40% {\n",
              "      border-color: transparent;\n",
              "      border-right-color: var(--fill-color);\n",
              "      border-top-color: var(--fill-color);\n",
              "    }\n",
              "    60% {\n",
              "      border-color: transparent;\n",
              "      border-right-color: var(--fill-color);\n",
              "    }\n",
              "    80% {\n",
              "      border-color: transparent;\n",
              "      border-right-color: var(--fill-color);\n",
              "      border-bottom-color: var(--fill-color);\n",
              "    }\n",
              "    90% {\n",
              "      border-color: transparent;\n",
              "      border-bottom-color: var(--fill-color);\n",
              "    }\n",
              "  }\n",
              "</style>\n",
              "\n",
              "      <script>\n",
              "        async function quickchart(key) {\n",
              "          const quickchartButtonEl =\n",
              "            document.querySelector('#' + key + ' button');\n",
              "          quickchartButtonEl.disabled = true;  // To prevent multiple clicks.\n",
              "          quickchartButtonEl.classList.add('colab-df-spinner');\n",
              "          try {\n",
              "            const charts = await google.colab.kernel.invokeFunction(\n",
              "                'suggestCharts', [key], {});\n",
              "          } catch (error) {\n",
              "            console.error('Error during call to suggestCharts:', error);\n",
              "          }\n",
              "          quickchartButtonEl.classList.remove('colab-df-spinner');\n",
              "          quickchartButtonEl.classList.add('colab-df-quickchart-complete');\n",
              "        }\n",
              "        (() => {\n",
              "          let quickchartButtonEl =\n",
              "            document.querySelector('#df-471b3a91-643f-46f0-a3d7-90bba25189a8 button');\n",
              "          quickchartButtonEl.style.display =\n",
              "            google.colab.kernel.accessAllowed ? 'block' : 'none';\n",
              "        })();\n",
              "      </script>\n",
              "    </div>\n",
              "\n",
              "    </div>\n",
              "  </div>\n"
            ],
            "application/vnd.google.colaboratory.intrinsic+json": {
              "type": "dataframe",
              "variable_name": "df_ratings"
            }
          },
          "metadata": {},
          "execution_count": 5
        }
      ]
    },
    {
      "cell_type": "markdown",
      "source": [],
      "metadata": {
        "id": "0y9z6kW7rUl8"
      }
    },
    {
      "cell_type": "markdown",
      "source": [
        "# Total e Tipo das Instâncias"
      ],
      "metadata": {
        "id": "2zSN2oAjuDs-"
      }
    },
    {
      "cell_type": "markdown",
      "source": [
        "O dataset Users possui 278858 instâncias e 3 colunas, tendo dados do tipo inteiro, float e categórico"
      ],
      "metadata": {
        "id": "TvLFETx2uFuF"
      }
    },
    {
      "cell_type": "code",
      "source": [
        "print(f\"Total de instâncias: {len(df_users)}\")\n",
        "print(\"\\nTipos de dados por coluna:\")\n",
        "print(df_users.info())"
      ],
      "metadata": {
        "colab": {
          "base_uri": "https://localhost:8080/"
        },
        "id": "ovLQr7xLWQ8h",
        "outputId": "09914c39-8d56-4861-b6ff-e3674850e8d7"
      },
      "execution_count": null,
      "outputs": [
        {
          "output_type": "stream",
          "name": "stdout",
          "text": [
            "Total de instâncias: 278858\n",
            "\n",
            "Tipos de dados por coluna:\n",
            "<class 'pandas.core.frame.DataFrame'>\n",
            "RangeIndex: 278858 entries, 0 to 278857\n",
            "Data columns (total 3 columns):\n",
            " #   Column    Non-Null Count   Dtype  \n",
            "---  ------    --------------   -----  \n",
            " 0   User-ID   278858 non-null  int64  \n",
            " 1   Location  278858 non-null  object \n",
            " 2   Age       168096 non-null  float64\n",
            "dtypes: float64(1), int64(1), object(1)\n",
            "memory usage: 6.4+ MB\n",
            "None\n"
          ]
        }
      ]
    },
    {
      "cell_type": "markdown",
      "source": [
        "O dataset Books possui 271360instâncias, com 8 colunas, todas do tipo categóricas, porém algumas no futuro vão ser transformadas em inteiros"
      ],
      "metadata": {
        "id": "xj62uxYTuYpa"
      }
    },
    {
      "cell_type": "code",
      "source": [
        "print(f\"Total de instâncias: {len(df_books)}\")\n",
        "print(\"\\nTipos de dados por coluna:\")\n",
        "print(df_books.info())"
      ],
      "metadata": {
        "colab": {
          "base_uri": "https://localhost:8080/"
        },
        "id": "-od2gn1Aq4uw",
        "outputId": "7cce887b-5991-4152-a1a8-9705f29a30fa"
      },
      "execution_count": null,
      "outputs": [
        {
          "output_type": "stream",
          "name": "stdout",
          "text": [
            "Total de instâncias: 271360\n",
            "\n",
            "Tipos de dados por coluna:\n",
            "<class 'pandas.core.frame.DataFrame'>\n",
            "RangeIndex: 271360 entries, 0 to 271359\n",
            "Data columns (total 8 columns):\n",
            " #   Column               Non-Null Count   Dtype \n",
            "---  ------               --------------   ----- \n",
            " 0   ISBN                 271360 non-null  object\n",
            " 1   Book-Title           271360 non-null  object\n",
            " 2   Book-Author          271358 non-null  object\n",
            " 3   Year-Of-Publication  271360 non-null  object\n",
            " 4   Publisher            271358 non-null  object\n",
            " 5   Image-URL-S          271360 non-null  object\n",
            " 6   Image-URL-M          271360 non-null  object\n",
            " 7   Image-URL-L          271357 non-null  object\n",
            "dtypes: object(8)\n",
            "memory usage: 16.6+ MB\n",
            "None\n"
          ]
        }
      ]
    },
    {
      "cell_type": "markdown",
      "source": [
        "O dataset de Ratings possui instâncias com 3 colunas, sendo 2 de inteiros e uma categórica"
      ],
      "metadata": {
        "id": "KQnIKIwlur_8"
      }
    },
    {
      "cell_type": "code",
      "source": [
        "print(f\"Total de instâncias: {len(df_ratings)}\")\n",
        "print(\"\\nTipos de dados por coluna:\")\n",
        "print(df_ratings.info())"
      ],
      "metadata": {
        "colab": {
          "base_uri": "https://localhost:8080/"
        },
        "id": "6fRgXclzq464",
        "outputId": "f558be70-8dfb-40d7-d018-34ba7e91c89b"
      },
      "execution_count": null,
      "outputs": [
        {
          "output_type": "stream",
          "name": "stdout",
          "text": [
            "Total de instâncias: 1149780\n",
            "\n",
            "Tipos de dados por coluna:\n",
            "<class 'pandas.core.frame.DataFrame'>\n",
            "RangeIndex: 1149780 entries, 0 to 1149779\n",
            "Data columns (total 3 columns):\n",
            " #   Column       Non-Null Count    Dtype \n",
            "---  ------       --------------    ----- \n",
            " 0   User-ID      1149780 non-null  int64 \n",
            " 1   ISBN         1149780 non-null  object\n",
            " 2   Book-Rating  1149780 non-null  int64 \n",
            "dtypes: int64(2), object(1)\n",
            "memory usage: 26.3+ MB\n",
            "None\n"
          ]
        }
      ]
    },
    {
      "cell_type": "markdown",
      "source": [
        "As três fontes de dados são linkadas por atributos identificadores como podemos ver na imagem abaixo. Na imagem podemos ver que o dataset de Ratings possui só um atributo próprio, e os outros dois servem para fazer um link aos outros datasets.\n",
        "![diagrama.png](data:image/png;base64,iVBORw0KGgoAAAANSUhEUgAAApUAAACDCAYAAADcQeAIAAAAAXNSR0IArs4c6QAAEtd0RVh0bXhmaWxlACUzQ214ZmlsZSUyMGhvc3QlM0QlMjJhcHAuZGlhZ3JhbXMubmV0JTIyJTIwYWdlbnQlM0QlMjJNb3ppbGxhJTJGNS4wJTIwKFdpbmRvd3MlMjBOVCUyMDEwLjAlM0IlMjBXaW42NCUzQiUyMHg2NCklMjBBcHBsZVdlYktpdCUyRjUzNy4zNiUyMChLSFRNTCUyQyUyMGxpa2UlMjBHZWNrbyklMjBDaHJvbWUlMkYxMzguMC4wLjAlMjBTYWZhcmklMkY1MzcuMzYlMjIlMjB2ZXJzaW9uJTNEJTIyMjcuMi4wJTIyJTIwc2NhbGUlM0QlMjIxJTIyJTIwYm9yZGVyJTNEJTIyMCUyMiUzRSUwQSUyMCUyMCUzQ2RpYWdyYW0lMjBuYW1lJTNEJTIyUCVDMyVBMWdpbmEtMSUyMiUyMGlkJTNEJTIyVnQ1c1hkNmx5V3VxMlNTMUlNc3MlMjIlM0UlMEElMjAlMjAlMjAlMjAlM0NteEdyYXBoTW9kZWwlMjBkeCUzRCUyMjEwNDIlMjIlMjBkeSUzRCUyMjUyNyUyMiUyMGdyaWQlM0QlMjIxJTIyJTIwZ3JpZFNpemUlM0QlMjIxMCUyMiUyMGd1aWRlcyUzRCUyMjElMjIlMjB0b29sdGlwcyUzRCUyMjElMjIlMjBjb25uZWN0JTNEJTIyMSUyMiUyMGFycm93cyUzRCUyMjElMjIlMjBmb2xkJTNEJTIyMSUyMiUyMHBhZ2UlM0QlMjIxJTIyJTIwcGFnZVNjYWxlJTNEJTIyMSUyMiUyMHBhZ2VXaWR0aCUzRCUyMjgyNyUyMiUyMHBhZ2VIZWlnaHQlM0QlMjIxMTY5JTIyJTIwbWF0aCUzRCUyMjAlMjIlMjBzaGFkb3clM0QlMjIwJTIyJTNFJTBBJTIwJTIwJTIwJTIwJTIwJTIwJTNDcm9vdCUzRSUwQSUyMCUyMCUyMCUyMCUyMCUyMCUyMCUyMCUzQ214Q2VsbCUyMGlkJTNEJTIyMCUyMiUyMCUyRiUzRSUwQSUyMCUyMCUyMCUyMCUyMCUyMCUyMCUyMCUzQ214Q2VsbCUyMGlkJTNEJTIyMSUyMiUyMHBhcmVudCUzRCUyMjAlMjIlMjAlMkYlM0UlMEElMjAlMjAlMjAlMjAlMjAlMjAlMjAlMjAlM0NteENlbGwlMjBpZCUzRCUyMnpJWjhHM3hsYzM1VVpxbTlhcVUtLTglMjIlMjB2YWx1ZSUzRCUyMiUyMiUyMHN0eWxlJTNEJTIycm91bmRlZCUzRDAlM0J3aGl0ZVNwYWNlJTNEd3JhcCUzQmh0bWwlM0QxJTNCJTIyJTIwdmVydGV4JTNEJTIyMSUyMiUyMHBhcmVudCUzRCUyMjElMjIlM0UlMEElMjAlMjAlMjAlMjAlMjAlMjAlMjAlMjAlMjAlMjAlM0NteEdlb21ldHJ5JTIweCUzRCUyMjgwJTIyJTIweSUzRCUyMjE1MCUyMiUyMHdpZHRoJTNEJTIyNjYwJTIyJTIwaGVpZ2h0JTNEJTIyMTMwJTIyJTIwYXMlM0QlMjJnZW9tZXRyeSUyMiUyMCUyRiUzRSUwQSUyMCUyMCUyMCUyMCUyMCUyMCUyMCUyMCUzQyUyRm14Q2VsbCUzRSUwQSUyMCUyMCUyMCUyMCUyMCUyMCUyMCUyMCUzQ214Q2VsbCUyMGlkJTNEJTIyeklaOEczeGxjMzVVWnFtOWFxVS0tNSUyMiUyMHN0eWxlJTNEJTIyZWRnZVN0eWxlJTNEb3J0aG9nb25hbEVkZ2VTdHlsZSUzQnJvdW5kZWQlM0QwJTNCb3J0aG9nb25hbExvb3AlM0QxJTNCamV0dHlTaXplJTNEYXV0byUzQmh0bWwlM0QxJTNCZW50cnlYJTNEMSUzQmVudHJ5WSUzRDAuNSUzQmVudHJ5RHglM0QwJTNCZW50cnlEeSUzRDAlM0JzdGFydEFycm93JTNEY2xhc3NpYyUzQnN0YXJ0RmlsbCUzRDElM0IlMjIlMjBlZGdlJTNEJTIyMSUyMiUyMHBhcmVudCUzRCUyMjElMjIlMjBzb3VyY2UlM0QlMjJ6SVo4RzN4bGMzNVVacW05YXFVLS0xJTIyJTIwdGFyZ2V0JTNEJTIyeklaOEczeGxjMzVVWnFtOWFxVS0tMyUyMiUzRSUwQSUyMCUyMCUyMCUyMCUyMCUyMCUyMCUyMCUyMCUyMCUzQ214R2VvbWV0cnklMjByZWxhdGl2ZSUzRCUyMjElMjIlMjBhcyUzRCUyMmdlb21ldHJ5JTIyJTIwJTJGJTNFJTBBJTIwJTIwJTIwJTIwJTIwJTIwJTIwJTIwJTNDJTJGbXhDZWxsJTNFJTBBJTIwJTIwJTIwJTIwJTIwJTIwJTIwJTIwJTNDbXhDZWxsJTIwaWQlM0QlMjJ6SVo4RzN4bGMzNVVacW05YXFVLS03JTIyJTIwdmFsdWUlM0QlMjJJU0JOJTIyJTIwc3R5bGUlM0QlMjJlZGdlTGFiZWwlM0JodG1sJTNEMSUzQmFsaWduJTNEY2VudGVyJTNCdmVydGljYWxBbGlnbiUzRG1pZGRsZSUzQnJlc2l6YWJsZSUzRDAlM0Jwb2ludHMlM0QlNUIlNUQlM0IlMjIlMjB2ZXJ0ZXglM0QlMjIxJTIyJTIwY29ubmVjdGFibGUlM0QlMjIwJTIyJTIwcGFyZW50JTNEJTIyeklaOEczeGxjMzVVWnFtOWFxVS0tNSUyMiUzRSUwQSUyMCUyMCUyMCUyMCUyMCUyMCUyMCUyMCUyMCUyMCUzQ214R2VvbWV0cnklMjB4JTNEJTIyLTAuMDczOCUyMiUyMHklM0QlMjIzJTIyJTIwcmVsYXRpdmUlM0QlMjIxJTIyJTIwYXMlM0QlMjJnZW9tZXRyeSUyMiUzRSUwQSUyMCUyMCUyMCUyMCUyMCUyMCUyMCUyMCUyMCUyMCUyMCUyMCUzQ214UG9pbnQlMjB5JTNEJTIyLTEzJTIyJTIwYXMlM0QlMjJvZmZzZXQlMjIlMjAlMkYlM0UlMEElMjAlMjAlMjAlMjAlMjAlMjAlMjAlMjAlMjAlMjAlM0MlMkZteEdlb21ldHJ5JTNFJTBBJTIwJTIwJTIwJTIwJTIwJTIwJTIwJTIwJTNDJTJGbXhDZWxsJTNFJTBBJTIwJTIwJTIwJTIwJTIwJTIwJTIwJTIwJTNDbXhDZWxsJTIwaWQlM0QlMjJ6SVo4RzN4bGMzNVVacW05YXFVLS0xJTIyJTIwdmFsdWUlM0QlMjJCb29rcyUyMiUyMHN0eWxlJTNEJTIycm91bmRlZCUzRDAlM0J3aGl0ZVNwYWNlJTNEd3JhcCUzQmh0bWwlM0QxJTNCJTIyJTIwdmVydGV4JTNEJTIyMSUyMiUyMHBhcmVudCUzRCUyMjElMjIlM0UlMEElMjAlMjAlMjAlMjAlMjAlMjAlMjAlMjAlMjAlMjAlM0NteEdlb21ldHJ5JTIweCUzRCUyMjYwMCUyMiUyMHklM0QlMjIxODAlMjIlMjB3aWR0aCUzRCUyMjEyMCUyMiUyMGhlaWdodCUzRCUyMjYwJTIyJTIwYXMlM0QlMjJnZW9tZXRyeSUyMiUyMCUyRiUzRSUwQSUyMCUyMCUyMCUyMCUyMCUyMCUyMCUyMCUzQyUyRm14Q2VsbCUzRSUwQSUyMCUyMCUyMCUyMCUyMCUyMCUyMCUyMCUzQ214Q2VsbCUyMGlkJTNEJTIyeklaOEczeGxjMzVVWnFtOWFxVS0tNCUyMiUyMHN0eWxlJTNEJTIyZWRnZVN0eWxlJTNEb3J0aG9nb25hbEVkZ2VTdHlsZSUzQnJvdW5kZWQlM0QwJTNCb3J0aG9nb25hbExvb3AlM0QxJTNCamV0dHlTaXplJTNEYXV0byUzQmh0bWwlM0QxJTNCZW50cnlYJTNEMCUzQmVudHJ5WSUzRDAuNSUzQmVudHJ5RHglM0QwJTNCZW50cnlEeSUzRDAlM0JzdGFydEFycm93JTNEY2xhc3NpYyUzQnN0YXJ0RmlsbCUzRDElM0IlMjIlMjBlZGdlJTNEJTIyMSUyMiUyMHBhcmVudCUzRCUyMjElMjIlMjBzb3VyY2UlM0QlMjJ6SVo4RzN4bGMzNVVacW05YXFVLS0yJTIyJTIwdGFyZ2V0JTNEJTIyeklaOEczeGxjMzVVWnFtOWFxVS0tMyUyMiUzRSUwQSUyMCUyMCUyMCUyMCUyMCUyMCUyMCUyMCUyMCUyMCUzQ214R2VvbWV0cnklMjByZWxhdGl2ZSUzRCUyMjElMjIlMjBhcyUzRCUyMmdlb21ldHJ5JTIyJTIwJTJGJTNFJTBBJTIwJTIwJTIwJTIwJTIwJTIwJTIwJTIwJTNDJTJGbXhDZWxsJTNFJTBBJTIwJTIwJTIwJTIwJTIwJTIwJTIwJTIwJTNDbXhDZWxsJTIwaWQlM0QlMjJ6SVo4RzN4bGMzNVVacW05YXFVLS02JTIyJTIwdmFsdWUlM0QlMjJJRCUyMiUyMHN0eWxlJTNEJTIyZWRnZUxhYmVsJTNCaHRtbCUzRDElM0JhbGlnbiUzRGNlbnRlciUzQnZlcnRpY2FsQWxpZ24lM0RtaWRkbGUlM0JyZXNpemFibGUlM0QwJTNCcG9pbnRzJTNEJTVCJTVEJTNCJTIyJTIwdmVydGV4JTNEJTIyMSUyMiUyMGNvbm5lY3RhYmxlJTNEJTIyMCUyMiUyMHBhcmVudCUzRCUyMnpJWjhHM3hsYzM1VVpxbTlhcVUtLTQlMjIlM0UlMEElMjAlMjAlMjAlMjAlMjAlMjAlMjAlMjAlMjAlMjAlM0NteEdlb21ldHJ5JTIweCUzRCUyMjAuMDI3NyUyMiUyMHklM0QlMjIzJTIyJTIwcmVsYXRpdmUlM0QlMjIxJTIyJTIwYXMlM0QlMjJnZW9tZXRyeSUyMiUzRSUwQSUyMCUyMCUyMCUyMCUyMCUyMCUyMCUyMCUyMCUyMCUyMCUyMCUzQ214UG9pbnQlMjB5JTNEJTIyLTclMjIlMjBhcyUzRCUyMm9mZnNldCUyMiUyMCUyRiUzRSUwQSUyMCUyMCUyMCUyMCUyMCUyMCUyMCUyMCUyMCUyMCUzQyUyRm14R2VvbWV0cnklM0UlMEElMjAlMjAlMjAlMjAlMjAlMjAlMjAlMjAlM0MlMkZteENlbGwlM0UlMEElMjAlMjAlMjAlMjAlMjAlMjAlMjAlMjAlM0NteENlbGwlMjBpZCUzRCUyMnpJWjhHM3hsYzM1VVpxbTlhcVUtLTIlMjIlMjB2YWx1ZSUzRCUyMlVzZXJzJTIyJTIwc3R5bGUlM0QlMjJyb3VuZGVkJTNEMCUzQndoaXRlU3BhY2UlM0R3cmFwJTNCaHRtbCUzRDElM0IlMjIlMjB2ZXJ0ZXglM0QlMjIxJTIyJTIwcGFyZW50JTNEJTIyMSUyMiUzRSUwQSUyMCUyMCUyMCUyMCUyMCUyMCUyMCUyMCUyMCUyMCUzQ214R2VvbWV0cnklMjB4JTNEJTIyMTAwJTIyJTIweSUzRCUyMjE4MCUyMiUyMHdpZHRoJTNEJTIyMTIwJTIyJTIwaGVpZ2h0JTNEJTIyNjAlMjIlMjBhcyUzRCUyMmdlb21ldHJ5JTIyJTIwJTJGJTNFJTBBJTIwJTIwJTIwJTIwJTIwJTIwJTIwJTIwJTNDJTJGbXhDZWxsJTNFJTBBJTIwJTIwJTIwJTIwJTIwJTIwJTIwJTIwJTNDbXhDZWxsJTIwaWQlM0QlMjJ6SVo4RzN4bGMzNVVacW05YXFVLS0zJTIyJTIwdmFsdWUlM0QlMjJSYXRpbmdzJTIyJTIwc3R5bGUlM0QlMjJyb3VuZGVkJTNEMCUzQndoaXRlU3BhY2UlM0R3cmFwJTNCaHRtbCUzRDElM0IlMjIlMjB2ZXJ0ZXglM0QlMjIxJTIyJTIwcGFyZW50JTNEJTIyMSUyMiUzRSUwQSUyMCUyMCUyMCUyMCUyMCUyMCUyMCUyMCUyMCUyMCUzQ214R2VvbWV0cnklMjB4JTNEJTIyMzUwJTIyJTIweSUzRCUyMjE4MCUyMiUyMHdpZHRoJTNEJTIyMTIwJTIyJTIwaGVpZ2h0JTNEJTIyNjAlMjIlMjBhcyUzRCUyMmdlb21ldHJ5JTIyJTIwJTJGJTNFJTBBJTIwJTIwJTIwJTIwJTIwJTIwJTIwJTIwJTNDJTJGbXhDZWxsJTNFJTBBJTIwJTIwJTIwJTIwJTIwJTIwJTNDJTJGcm9vdCUzRSUwQSUyMCUyMCUyMCUyMCUzQyUyRm14R3JhcGhNb2RlbCUzRSUwQSUyMCUyMCUzQyUyRmRpYWdyYW0lM0UlMEElM0MlMkZteGZpbGUlM0UlMEHM+gpnAAATR0lEQVR4Xu3dT8g20x/H8XkoRUjYUFgqWxYW8qdsFIoUNiiywEKRP4kFKURJsVAKKZQolAXl38bGxkJZehQb/4lS3L/O/MzdPJfrua+555x5zvWdeV0lnsfMOd/z/nzONZ+ZOTPXgaZpdhofBBBAAAEEEEAAAQQyCBxIoXJnR67MYGhXBBBAAAEEEEBg0QQOHDjQCJWLtoDBI4AAAggggAAC+QSEynyGWkAAAQQQQAABBBZPQKhcvAUAQAABBBBAAAEE8gkIlfkMtYAAAggggAACCCyegFC5eAsAgAACCCCAAAII5BMQKvMZagEBBBBAAAEEEFg8AaFy8RYAAAEEEEAAAQQQyCcgVOYz1AICCCCAAAIIILB4AkLl4i0AAAIIIIAAAgggkE9AqMxnqAUEEEAAAQQQQGDxBITKxVsAAAQQQAABBBBAIJ+AUJnPUAsIIIAAAggggMDiCQiVi7cAAAgggAACCCCAQD4BoTKfoRYQQAABBBBAAIHFExAqF28BABBAAAEEEEAAgXwCQmU+Qy0ggAACCCCAAAKLJyBULt4CACCAAAIIIIAAAvkEhMp8hlpAAAEEEEAAAQQWT0CoXLwFAEAAAQQQQAABBPIJCJX5DLWAAAIIIIAAAggsnoBQuXgLAIAAAggggAACCOQTECrzGWoBAQQQQAABBBBYPAGhcvEWAAABBBBAAAEEEMgnIFTmM9QCAggggAACCCCweAJC5eItAAACCCCAAAIIIJBPQKjMZ6gFBBBAAAEEEEBg8QSEysVbAAAEEEAAAQQQQCCfgFCZz1ALCCCAAAIIIIDA4glMEipToz7zJrCzszPvARrdRgLm+UZE4Tcwz8NLmD0A8zwb4dY3UHKeTxYqSxa59YosrMBkGvouTPQ1w+WDeXuAvvPWd+jo+GAoqZjbldZXqIzpg6pVlzZh1cHofDQBPhiNLsSO9A0h0+RF8sHkiKt2UFpfobKqnDE7L23CmBRUzQfz9gB9563v0NHxwVBSMbcrra9QGdMHVasubcKqg9H5aAJ8MBpdiB3pG0KmyYvkg8kRV+2gtL5CZVU5Y3Ze2oQxKaiaD+btAfrOW9+ho+ODoaRibldaX6Eypg+qVl3ahFUHo/PRBPhgNLoQO9I3hEyTF8kHkyOu2kFpfYXKqnLG7Ly0CWNSUDUfzNsD9J23vkNHxwdDScXcrrS+QmVMH1SturQJqw5G56MJ8MFodCF2pG8ImSYvkg8mR1y1g9L6CpVV5YzZeWkTxqSgaj6YtwfoO299h46OD4aSirldaX2Fypg+qFp1aRNWHYzORxPgg9HoQuxI3xAyTV4kH0yOuGoHpfUVKqvKGbPz0iaMSUHVfDBvD9B33voOHR0fDCUVc7vS+gqVMX1QterSJqw6GJ2PJsAHo9GF2JG+IWSavEg+mBxx1Q5K6ytUVpUzZuelTRiTgqr5YN4eoO+89R06Oj4YSirmdqX1FSpj+qBq1aVNWHUwOh9NgA9GowuxI31DyDR5kXwwOeKqHZTWV6isKmfMzkubMCYFVfPBvD1A33nrO3R0fDCUVMztSusrVMb0QdWqS5uw6mB0PpoAH4xGF2JH+oaQafIi+WByxFU7KK2vUFlVzpidlzZhTAqq5oN5e4C+89Z36Oj4YCipmNuV1leojOmDqlWXNmHVwYzo/MYbb2z3eumll5r03y+//PIhrbz99tvNFVdcMaLlWLss3Qex1Np/tUvS9/fff28uv/zy5rLLLmvuvffe5rvvvmvOP//85uDBgy24M888s/nss8+a0047bc85//nnnzcXXnhh89BDD7XtpE/6u5tvvrl577332v2jfZbkg2jalKi3tL5CZQlVFtZGaRNGw7caKruA2R1A0kHltddem32wXLoPovl2v/UuSd/VUNmf44lb+vPXX3/dvPvuu83tt9++e1KZ/uOdd95pnnrqqfb/ffXVV22oPPXUU3dDqFC5X+fZ/kgSKD3Phcojqd5M+iptwmhY9gqVaSyPP/548+WXX7ZXMuf8WboP5qxtGtuS9O2HyhQa+1ctV3VeDZyrofKqq65qbrjhhuabb75pvwOEyrnPlNjjKz3PhcrYfqhSfWkTVhlERqebQmX/IHP88cdn9LTduy7dB9utTn51S9J39Upldxv7jz/+aC666KL2KmQ3l1eXvPRvjaf9UqhMS2Kefvrp5sEHH2yFcPs7349amIZA6XkuVE6j06xbLW3CaLCEyv8rtnQfRPPtfutdkr6robLPqguR6epjt446/f/uTkQ6ibzjjjva293ffvttGyrfeuuttokXX3yxuemmm4TK/ZrP9keMQOl5LlQeMenm01FpE0YjsylUuv0dTVH1riOwpHm+V6hMbPq3sO+7774WVxcq00M96QGfF154of37LlSee+657VrMM844o73S6UEd82wbCZSe50LlNqq85TWVNuGWD/c/5XlQx5XKaJ4dU++S5nk/VKYrkunJ79tuu+2QJ7gfeeSR5pVXXln7oM66K5UpVHZPkSf+3dPjY7Souc+SfFCTc62+S+srVNZSMnC/pU0YDYVXCgmV0Tw7pt4lzfO91lQmdvt5pVD/SmXaN925eO6554TKMSa0z+QESs9zofJfyboF1mktTDrD7D4pQJxzzjm7Z6yTKxygg71M+NtvvzXPP/98c9dddwUYiRL3IpBek3Lrrbc2J5xwwtrNSn8ZTaHGuveIHnfccc0nn3xyyDxf13d/GcNSHr7qczDPp3Dk9rU5h3nep9p/yKr7+/5JwRgFupOOdFyb2zuIS3+PC5VC5b7n2DoTpjD5xBNPtGflRx99dPPnn3/uu107bBeBFL7+/vvv5p577mn/WQ2Xpb+Mphj96utfuitHaX1b/4neTaFyitq2vU3zfNsVKlPfHOb5aqhcvVq87ntgP/SEyuG0hMp9hMr+GdDq1Y7+FZHHHnusvbLZGfGnn35qvvjiiyb90kr6XHnlle2/c8+ehstcdsv+waYLk08++WT7NHD659FHH23uvPPOsp1q7YgTSK9EeeCBB9p+//nnn+buu+8+JFxGDZWr7w1MJ0LdwxfdvE5P8XbzNK2xu+aaa3ZfcJ3eY/jLL78077//frP6ypn+L7GkV9H8/PPP7QMcZ599dvvuw48//rjl2X1HHHFR99Gheb4PWIE3ncM83xQqV+80pD9383uvV0atHsu7K5Vp/+uuu66949H/roh4TC/9PS5UDgyV3Qtx+6Z644032icA00Gpu/LR/aJC+kWVSy65pD2QnHXWWe12/acE0y32tF/6dD/nFeV7KZnm119/ba9MdmGyuzJ5yimnNN9//32UoahzA4Gk548//thudeyxxzY7Ozu74fLEE09s/7zNn01XKj/88MPd18F0P8GXxtPN6+4l9v2DUvou+Oijj3ZfIdP/BaV+f2l+P/zww+2B54MPPth9IX76Hrj++uubV199dat/ts8832Znl60t+jzfFCr7y9i6i0PrjtH99a8pLHZzuzuWd8u6ul9QShdVuif/ox7Thcqyc2m3tU1rKldDZbfjuldRdAZe/WWG1VA50VAmbzaZMJ2lvfnmm81ff/21299RRx3VXtHymReBVV2POeaY5uqrr25/ijJCqFz9bfa9rib011Eebk1l/2f6+rfFzjvvvEMOMP353g+VUdxhnkdRqkydkef5aqhMYTDdReg+/auR665adk/vpzsW/WcoupPEZ599tr1AdMEFFxzyeqg5HNOFyjLz5z+tbAqV6Wpi/9ZWd2BK68z6t7W6htMts86I/cW9e/1Sw0RDK97sXlcwTj755OaHH34o3qcG6xBIv2Hc6Rn9SuW6E8Du77rb0oly95LrvUJld+Dph8rTTz/9kHcUrh5w+ktk0lKYbV/wb57XmXM1eo0+zzddqey/oD6dZPbXVHfLYdKdx1tuuaU9MezuHnbfAd2xPPVz0kkntS+z7+Zv9GO6UDnRjFt3xrHXC3G7s53XX3+9ufbaa9unnVcPEpsW90Z9Sfbh1lqlM930saZyIpMe4Wa7tVbpamT/tnf3wE7pL6Mphrd6+7t/6yvN1/7SlfQzfEOvVK4LlXtdqey/USLK1Q3zfApHbl+bc5jnm0Jlf86l29rd7es05/uBc9OVynScTyePh/vZzYjH9NLf49ZU/uvGLgB26x/TX/cX4yYj9ddOpP+3bk1lWmPRvTh39Zb5ugcEUj8R11Su3vbsHthJ6yzT09/9Ww/b9zWqoiEE0pXJ9PR38udcn/5OVyC6qxbd3L344os3rqlcFypTSD3cmspnnnlm97ZapDWV5vmQmRJ7mznM802hcvWnNFfXSnbH/SFrKrt5nr4DLr300kMCZsTnJITKCefv6q2w1Se8+0+Mra7L6t/a6m6frbtS2X/SdPWpswmHVrRp768rinNrG5vD++vWPajTLWNJv5jS/XrKwYMH27cx3H///e1a0fS6ofQQT3pCdN3T34cLlf0lMmmd1qeffto+/Z1OStPJZuonfaLc/j7cmlnvo93aabvvwuYwz1dD5eqayr2O5WOe/l5dL929PSLiMV2o3PeUsUNpAqVNWLo+7R0ZAnywN+f+1ZH0ZHm0D32jKTZNvXwwDddtabW0vm5/b4uygeoobcJAQ1dqjwAfHGqHTXc6opmHvtEUm6ZePpiG67a0WlpfoXJblA1UR2kTBhq6UoXKxXjAPF+M1HsOlA/m7YPS+gqV8/bLJKMrbcJJitTo5AT4YHLEVTugb1X8W9M5H2yNFJMUUlpfoXISmebdaGkTzpvWfEfHB/PVNo2MvvPWd+jo+GAoqZjbldZXqIzpg6pVlzZh1cHofDQBPhiNLsSO9A0h0+RF8sHkiKt2UFpfobKqnDE7L23CmBRUzQfz9gB9563v0NHxwVBSMbcrra9QGdMHVasubcKqg9H5aAJ8MBpdiB3pG0KmyYvkg8kRV+2gtL5CZVU5Y3Ze2oQxKaiaD+btAfrOW9+ho+ODoaRibldaX6Eypg+qVl3ahFUHo/PRBPhgNLoQO9I3hEyTF8kHkyOu2kFpfYXKqnLG7Ly0CWNSUDUfzNsD9J23vkNHxwdDScXcrrS+QmVMH1SturQJqw5G56MJ8MFodCF2pG8ImSYvkg8mR1y1g9L6CpVV5YzZeWkTxqSgaj6YtwfoO299h46OD4aSirldaX2Fypg+qFp1aRNWHYzORxPgg9HoQuxI3xAyTV4kH0yOuGoHpfUVKqvKGbPz0iaMSUHVfDBvD9B33voOHR0fDCUVc7vS+gqVMX1QterSJqw6GJ2PJsAHo9GF2JG+IWSavEg+mBxx1Q5K6ytUVpUzZuelTRiTgqr5YN4eoO+89R06Oj4YSirmdqX1FSpj+qBq1aVNWHUwOh9NgA9GowuxI31DyDR5kXwwOeKqHZTWV6isKmfMzkubMCYFVfPBvD1A33nrO3R0fDCUVMztSusrVMb0QdWqS5uw6mB0PpoAH4xGF2JH+oaQafIi+WByxFU7KK2vUFlVzpidlzZhTAqq5oN5e4C+89Z36Oj4YCipmNuV1leojOmDqlWXNmHVweh8NAE+GI0uxI70DSHT5EXyweSIq3ZQWl+hsqqcMTsvbcKYFFTNB/P2AH3nre/Q0fHBUFIxtyutr1AZ0wdVqy5twqqD0floAnwwGl2IHekbQqbJi+SDyRFX7aC0vkJlVTljdl7ahDEpqJoP5u0B+s5b36Gj44OhpGJuV1rfyUJlTLyqHkpgZ2dn6Ka2mymB9OXhM28C5vm89R0yOvN8CKXY25Sc55OEyth4VY8AAggggAACCCCwXwJC5X6J2R4BBBBAAAEEEEDgPwSESqZAAAEEEEAAAQQQyCYgVGYj1AACCCCAAAIIIICAUMkDCCCAAAIIIIAAAtkEhMpshBpAAAEEEEAAAQQQECp5AAEEEEAAAQQQQCCbgFCZjVADCCCAAAIIIIAAAkIlDyCAAAIIIIAAAghkExAqsxFqAAEEEEAAAQQQQECo5AEEEEAAAQQQQACBbAJCZTZCDSCAAAIIIIAAAggIlTyAAAIIIIAAAgggkE1AqMxGqAEEEEAAAQQQQAABoZIHEEAAAQQQQAABBLIJCJXZCDWAAAIIIIAAAgggIFTyAAIIIIAAAggggEA2AaEyG6EGEEAAAQQQQAABBIRKHkAAAQQQQAABBBDIJiBUZiPUAAIIIIAAAggggIBQyQMIIIAAAggggAAC2QSEymyEGkAAAQQQQAABBBAQKnkAAQQQQAABBBBAIJuAUJmNUAMIIIAAAggggAACQiUPIIAAAggggAACCGQTECqzEWoAAQQQQAABBBBAQKjkAQQQQAABBBBAAIFsAkJlNkINIIAAAggggAACCAiVPIAAAggggAACCCCQTUCozEaoAQQQQAABBBBAAAGhkgcQQAABBBBAAAEEsgkIldkINYAAAggggAACCCAgVPIAAggggAACCCCAQDYBoTIboQYQQAABBBBAAAEEhEoeQAABBBBAAAEEEMgmIFRmI9QAAggggAACCCCAgFDJAwgggAACCCCAAALZBITKbIQaQAABBBBAAAEEEBAqeQABBBBAAAEEEEAgm8BuqMxuSQMIIIAAAggggAACiybwP3DXwrURe+EUAAAAAElFTkSuQmCC)\n",
        "\n",
        "(Diagrama feito via draw.io pelo autor deste notebook)"
      ],
      "metadata": {
        "id": "VqFUhyxDvUdp"
      }
    },
    {
      "cell_type": "markdown",
      "source": [
        "# Análise de Dados\n",
        "A partir de agora vamos analisar cada dataset separadamente\n",
        "\n"
      ],
      "metadata": {
        "id": "6ChpmvDmZ1qz"
      }
    },
    {
      "cell_type": "markdown",
      "source": [
        "# DATASET USERS"
      ],
      "metadata": {
        "id": "kc69OCuJZ9kq"
      }
    },
    {
      "cell_type": "markdown",
      "source": [
        "# Estatísticas Descritivas"
      ],
      "metadata": {
        "id": "IusSEmmLyCio"
      }
    },
    {
      "cell_type": "code",
      "source": [
        "# estatísticas descritivas básicas do dataset Users\n",
        "df_users.describe()"
      ],
      "metadata": {
        "colab": {
          "base_uri": "https://localhost:8080/",
          "height": 300
        },
        "id": "EDJjhY73-Xij",
        "outputId": "2678486d-c78f-471f-add7-d295fa7b1cc0"
      },
      "execution_count": null,
      "outputs": [
        {
          "output_type": "execute_result",
          "data": {
            "text/plain": [
              "            User-ID            Age\n",
              "count  278858.00000  168096.000000\n",
              "mean   139429.50000      34.751434\n",
              "std     80499.51502      14.428097\n",
              "min         1.00000       0.000000\n",
              "25%     69715.25000      24.000000\n",
              "50%    139429.50000      32.000000\n",
              "75%    209143.75000      44.000000\n",
              "max    278858.00000     244.000000"
            ],
            "text/html": [
              "\n",
              "  <div id=\"df-fddc7bce-dc6f-4ff0-9823-4844f31492cf\" class=\"colab-df-container\">\n",
              "    <div>\n",
              "<style scoped>\n",
              "    .dataframe tbody tr th:only-of-type {\n",
              "        vertical-align: middle;\n",
              "    }\n",
              "\n",
              "    .dataframe tbody tr th {\n",
              "        vertical-align: top;\n",
              "    }\n",
              "\n",
              "    .dataframe thead th {\n",
              "        text-align: right;\n",
              "    }\n",
              "</style>\n",
              "<table border=\"1\" class=\"dataframe\">\n",
              "  <thead>\n",
              "    <tr style=\"text-align: right;\">\n",
              "      <th></th>\n",
              "      <th>User-ID</th>\n",
              "      <th>Age</th>\n",
              "    </tr>\n",
              "  </thead>\n",
              "  <tbody>\n",
              "    <tr>\n",
              "      <th>count</th>\n",
              "      <td>278858.00000</td>\n",
              "      <td>168096.000000</td>\n",
              "    </tr>\n",
              "    <tr>\n",
              "      <th>mean</th>\n",
              "      <td>139429.50000</td>\n",
              "      <td>34.751434</td>\n",
              "    </tr>\n",
              "    <tr>\n",
              "      <th>std</th>\n",
              "      <td>80499.51502</td>\n",
              "      <td>14.428097</td>\n",
              "    </tr>\n",
              "    <tr>\n",
              "      <th>min</th>\n",
              "      <td>1.00000</td>\n",
              "      <td>0.000000</td>\n",
              "    </tr>\n",
              "    <tr>\n",
              "      <th>25%</th>\n",
              "      <td>69715.25000</td>\n",
              "      <td>24.000000</td>\n",
              "    </tr>\n",
              "    <tr>\n",
              "      <th>50%</th>\n",
              "      <td>139429.50000</td>\n",
              "      <td>32.000000</td>\n",
              "    </tr>\n",
              "    <tr>\n",
              "      <th>75%</th>\n",
              "      <td>209143.75000</td>\n",
              "      <td>44.000000</td>\n",
              "    </tr>\n",
              "    <tr>\n",
              "      <th>max</th>\n",
              "      <td>278858.00000</td>\n",
              "      <td>244.000000</td>\n",
              "    </tr>\n",
              "  </tbody>\n",
              "</table>\n",
              "</div>\n",
              "    <div class=\"colab-df-buttons\">\n",
              "\n",
              "  <div class=\"colab-df-container\">\n",
              "    <button class=\"colab-df-convert\" onclick=\"convertToInteractive('df-fddc7bce-dc6f-4ff0-9823-4844f31492cf')\"\n",
              "            title=\"Convert this dataframe to an interactive table.\"\n",
              "            style=\"display:none;\">\n",
              "\n",
              "  <svg xmlns=\"http://www.w3.org/2000/svg\" height=\"24px\" viewBox=\"0 -960 960 960\">\n",
              "    <path d=\"M120-120v-720h720v720H120Zm60-500h600v-160H180v160Zm220 220h160v-160H400v160Zm0 220h160v-160H400v160ZM180-400h160v-160H180v160Zm440 0h160v-160H620v160ZM180-180h160v-160H180v160Zm440 0h160v-160H620v160Z\"/>\n",
              "  </svg>\n",
              "    </button>\n",
              "\n",
              "  <style>\n",
              "    .colab-df-container {\n",
              "      display:flex;\n",
              "      gap: 12px;\n",
              "    }\n",
              "\n",
              "    .colab-df-convert {\n",
              "      background-color: #E8F0FE;\n",
              "      border: none;\n",
              "      border-radius: 50%;\n",
              "      cursor: pointer;\n",
              "      display: none;\n",
              "      fill: #1967D2;\n",
              "      height: 32px;\n",
              "      padding: 0 0 0 0;\n",
              "      width: 32px;\n",
              "    }\n",
              "\n",
              "    .colab-df-convert:hover {\n",
              "      background-color: #E2EBFA;\n",
              "      box-shadow: 0px 1px 2px rgba(60, 64, 67, 0.3), 0px 1px 3px 1px rgba(60, 64, 67, 0.15);\n",
              "      fill: #174EA6;\n",
              "    }\n",
              "\n",
              "    .colab-df-buttons div {\n",
              "      margin-bottom: 4px;\n",
              "    }\n",
              "\n",
              "    [theme=dark] .colab-df-convert {\n",
              "      background-color: #3B4455;\n",
              "      fill: #D2E3FC;\n",
              "    }\n",
              "\n",
              "    [theme=dark] .colab-df-convert:hover {\n",
              "      background-color: #434B5C;\n",
              "      box-shadow: 0px 1px 3px 1px rgba(0, 0, 0, 0.15);\n",
              "      filter: drop-shadow(0px 1px 2px rgba(0, 0, 0, 0.3));\n",
              "      fill: #FFFFFF;\n",
              "    }\n",
              "  </style>\n",
              "\n",
              "    <script>\n",
              "      const buttonEl =\n",
              "        document.querySelector('#df-fddc7bce-dc6f-4ff0-9823-4844f31492cf button.colab-df-convert');\n",
              "      buttonEl.style.display =\n",
              "        google.colab.kernel.accessAllowed ? 'block' : 'none';\n",
              "\n",
              "      async function convertToInteractive(key) {\n",
              "        const element = document.querySelector('#df-fddc7bce-dc6f-4ff0-9823-4844f31492cf');\n",
              "        const dataTable =\n",
              "          await google.colab.kernel.invokeFunction('convertToInteractive',\n",
              "                                                    [key], {});\n",
              "        if (!dataTable) return;\n",
              "\n",
              "        const docLinkHtml = 'Like what you see? Visit the ' +\n",
              "          '<a target=\"_blank\" href=https://colab.research.google.com/notebooks/data_table.ipynb>data table notebook</a>'\n",
              "          + ' to learn more about interactive tables.';\n",
              "        element.innerHTML = '';\n",
              "        dataTable['output_type'] = 'display_data';\n",
              "        await google.colab.output.renderOutput(dataTable, element);\n",
              "        const docLink = document.createElement('div');\n",
              "        docLink.innerHTML = docLinkHtml;\n",
              "        element.appendChild(docLink);\n",
              "      }\n",
              "    </script>\n",
              "  </div>\n",
              "\n",
              "\n",
              "    <div id=\"df-f80fc08f-c358-4df0-a497-f3c134d6e87d\">\n",
              "      <button class=\"colab-df-quickchart\" onclick=\"quickchart('df-f80fc08f-c358-4df0-a497-f3c134d6e87d')\"\n",
              "                title=\"Suggest charts\"\n",
              "                style=\"display:none;\">\n",
              "\n",
              "<svg xmlns=\"http://www.w3.org/2000/svg\" height=\"24px\"viewBox=\"0 0 24 24\"\n",
              "     width=\"24px\">\n",
              "    <g>\n",
              "        <path d=\"M19 3H5c-1.1 0-2 .9-2 2v14c0 1.1.9 2 2 2h14c1.1 0 2-.9 2-2V5c0-1.1-.9-2-2-2zM9 17H7v-7h2v7zm4 0h-2V7h2v10zm4 0h-2v-4h2v4z\"/>\n",
              "    </g>\n",
              "</svg>\n",
              "      </button>\n",
              "\n",
              "<style>\n",
              "  .colab-df-quickchart {\n",
              "      --bg-color: #E8F0FE;\n",
              "      --fill-color: #1967D2;\n",
              "      --hover-bg-color: #E2EBFA;\n",
              "      --hover-fill-color: #174EA6;\n",
              "      --disabled-fill-color: #AAA;\n",
              "      --disabled-bg-color: #DDD;\n",
              "  }\n",
              "\n",
              "  [theme=dark] .colab-df-quickchart {\n",
              "      --bg-color: #3B4455;\n",
              "      --fill-color: #D2E3FC;\n",
              "      --hover-bg-color: #434B5C;\n",
              "      --hover-fill-color: #FFFFFF;\n",
              "      --disabled-bg-color: #3B4455;\n",
              "      --disabled-fill-color: #666;\n",
              "  }\n",
              "\n",
              "  .colab-df-quickchart {\n",
              "    background-color: var(--bg-color);\n",
              "    border: none;\n",
              "    border-radius: 50%;\n",
              "    cursor: pointer;\n",
              "    display: none;\n",
              "    fill: var(--fill-color);\n",
              "    height: 32px;\n",
              "    padding: 0;\n",
              "    width: 32px;\n",
              "  }\n",
              "\n",
              "  .colab-df-quickchart:hover {\n",
              "    background-color: var(--hover-bg-color);\n",
              "    box-shadow: 0 1px 2px rgba(60, 64, 67, 0.3), 0 1px 3px 1px rgba(60, 64, 67, 0.15);\n",
              "    fill: var(--button-hover-fill-color);\n",
              "  }\n",
              "\n",
              "  .colab-df-quickchart-complete:disabled,\n",
              "  .colab-df-quickchart-complete:disabled:hover {\n",
              "    background-color: var(--disabled-bg-color);\n",
              "    fill: var(--disabled-fill-color);\n",
              "    box-shadow: none;\n",
              "  }\n",
              "\n",
              "  .colab-df-spinner {\n",
              "    border: 2px solid var(--fill-color);\n",
              "    border-color: transparent;\n",
              "    border-bottom-color: var(--fill-color);\n",
              "    animation:\n",
              "      spin 1s steps(1) infinite;\n",
              "  }\n",
              "\n",
              "  @keyframes spin {\n",
              "    0% {\n",
              "      border-color: transparent;\n",
              "      border-bottom-color: var(--fill-color);\n",
              "      border-left-color: var(--fill-color);\n",
              "    }\n",
              "    20% {\n",
              "      border-color: transparent;\n",
              "      border-left-color: var(--fill-color);\n",
              "      border-top-color: var(--fill-color);\n",
              "    }\n",
              "    30% {\n",
              "      border-color: transparent;\n",
              "      border-left-color: var(--fill-color);\n",
              "      border-top-color: var(--fill-color);\n",
              "      border-right-color: var(--fill-color);\n",
              "    }\n",
              "    40% {\n",
              "      border-color: transparent;\n",
              "      border-right-color: var(--fill-color);\n",
              "      border-top-color: var(--fill-color);\n",
              "    }\n",
              "    60% {\n",
              "      border-color: transparent;\n",
              "      border-right-color: var(--fill-color);\n",
              "    }\n",
              "    80% {\n",
              "      border-color: transparent;\n",
              "      border-right-color: var(--fill-color);\n",
              "      border-bottom-color: var(--fill-color);\n",
              "    }\n",
              "    90% {\n",
              "      border-color: transparent;\n",
              "      border-bottom-color: var(--fill-color);\n",
              "    }\n",
              "  }\n",
              "</style>\n",
              "\n",
              "      <script>\n",
              "        async function quickchart(key) {\n",
              "          const quickchartButtonEl =\n",
              "            document.querySelector('#' + key + ' button');\n",
              "          quickchartButtonEl.disabled = true;  // To prevent multiple clicks.\n",
              "          quickchartButtonEl.classList.add('colab-df-spinner');\n",
              "          try {\n",
              "            const charts = await google.colab.kernel.invokeFunction(\n",
              "                'suggestCharts', [key], {});\n",
              "          } catch (error) {\n",
              "            console.error('Error during call to suggestCharts:', error);\n",
              "          }\n",
              "          quickchartButtonEl.classList.remove('colab-df-spinner');\n",
              "          quickchartButtonEl.classList.add('colab-df-quickchart-complete');\n",
              "        }\n",
              "        (() => {\n",
              "          let quickchartButtonEl =\n",
              "            document.querySelector('#df-f80fc08f-c358-4df0-a497-f3c134d6e87d button');\n",
              "          quickchartButtonEl.style.display =\n",
              "            google.colab.kernel.accessAllowed ? 'block' : 'none';\n",
              "        })();\n",
              "      </script>\n",
              "    </div>\n",
              "\n",
              "    </div>\n",
              "  </div>\n"
            ],
            "application/vnd.google.colaboratory.intrinsic+json": {
              "type": "dataframe",
              "summary": "{\n  \"name\": \"df_users\",\n  \"rows\": 8,\n  \"fields\": [\n    {\n      \"column\": \"User-ID\",\n      \"properties\": {\n        \"dtype\": \"number\",\n        \"std\": 100501.4675852522,\n        \"min\": 1.0,\n        \"max\": 278858.0,\n        \"num_unique_values\": 6,\n        \"samples\": [\n          278858.0,\n          139429.5,\n          209143.75\n        ],\n        \"semantic_type\": \"\",\n        \"description\": \"\"\n      }\n    },\n    {\n      \"column\": \"Age\",\n      \"properties\": {\n        \"dtype\": \"number\",\n        \"std\": 59411.10316076062,\n        \"min\": 0.0,\n        \"max\": 168096.0,\n        \"num_unique_values\": 8,\n        \"samples\": [\n          34.75143370454978,\n          32.0,\n          168096.0\n        ],\n        \"semantic_type\": \"\",\n        \"description\": \"\"\n      }\n    }\n  ]\n}"
            }
          },
          "metadata": {},
          "execution_count": 9
        }
      ]
    },
    {
      "cell_type": "markdown",
      "source": [
        "- Logo de cara podemos ver algumas informações interessantes desse resultado; Em primeiro lugar nada relativo ao *User-ID* nos vai ser útil, pois é apenas um identificador número e não possui sintática.\n",
        "\n",
        "- No começo podemos observar que foi somado o número total das idades, algo que também não nos serve, porém depois podemos encontrar o *count* de idades distintas no fututro.\n",
        "\n",
        "- Depois podemos observar que a idade média dos usuários é entre 34-35 anos, podemos supor em cima dessa informação que essa idade dos usuários implicam em pessoas com meios financeiros para adquirir livros assim como se trata de uma idade onde é comum do individuo médio já estar formado e ter uma família, logo a leitura surge como um hobby mais atrativo.\n",
        "\n",
        "- No campo do std, podemos analisar o desvio padrão, de aproximadamente 14 anos, isso quer dizer que as idades variam em sua maioria entre 20 e 48 anos. O desvio padrão nesse caso é elevado, aproximadamente 41% da média, isso indica que existem usuários com idades muito diferentes, pois quanto maior o desvio padrão maior a dispersão de dados.\n",
        "\n",
        "- Com os campos de min e max sendo 0 e 244 respectivamente podemos dizer com certeza que esses outliers são informações erradas, devido a impossibilidade da sua existência\n",
        "\n"
      ],
      "metadata": {
        "id": "KIM6p7G9-l9U"
      }
    },
    {
      "cell_type": "code",
      "source": [
        "#idades distintas\n",
        "\n",
        "df_users['Age'].nunique()"
      ],
      "metadata": {
        "colab": {
          "base_uri": "https://localhost:8080/"
        },
        "id": "yCYdxVs5BgFU",
        "outputId": "da6635c1-42f0-48f4-f15c-00dcc773feba"
      },
      "execution_count": null,
      "outputs": [
        {
          "output_type": "execute_result",
          "data": {
            "text/plain": [
              "165"
            ]
          },
          "metadata": {},
          "execution_count": 10
        }
      ]
    },
    {
      "cell_type": "markdown",
      "source": [
        "-  A informação de 165 idades distintas indica um grande número de outliers que deverão ser corrigidos no futuro"
      ],
      "metadata": {
        "id": "CScBJf4BCIzE"
      }
    },
    {
      "cell_type": "markdown",
      "source": [
        "A idade não só é o único atributo númerico deste dataset, como é uma informação muito importante para entender o comportamento humano, então vamos gerar alguns gráficos para entender melhor esse atributo no nosso dataset"
      ],
      "metadata": {
        "id": "-BZIAl5cabaz"
      }
    },
    {
      "cell_type": "code",
      "source": [
        "plt.figure(figsize=(8, 6))\n",
        "sns.histplot(df_users['Age'], kde=True)\n",
        "plt.title('Distribuição da Idade dos Usuários')\n",
        "plt.xlabel('Idade')\n",
        "plt.ylabel('Frequência')\n",
        "plt.show()"
      ],
      "metadata": {
        "colab": {
          "base_uri": "https://localhost:8080/",
          "height": 565
        },
        "id": "lNCWCNSvapeS",
        "outputId": "bd369140-192f-4a65-baa6-9ec116418928"
      },
      "execution_count": null,
      "outputs": [
        {
          "output_type": "display_data",
          "data": {
            "text/plain": [
              "<Figure size 800x600 with 1 Axes>"
            ],
            "image/png": "[encoded data removed]"
          },
          "metadata": {}
        }
      ]
    },
    {
      "cell_type": "markdown",
      "source": [
        "- Podemos ver que os outliers prejudicam a visualização do histograma, logo vamos tratar esse problema na etapa de pré processamento. Além disso a curva de densidade estimada (kde) nos indica uma distribuição unimodal na faixa dos 35 anos, como foi visto anteriormente.\n",
        "- Após a retirada dos outliers vamos gerar esse gráfico novamente, apesar de ser improvável que retiremos mais alguma informação dele, ele ganhará uma melhor visualização\n"
      ],
      "metadata": {
        "id": "ygGkRnfGeCSt"
      }
    },
    {
      "cell_type": "markdown",
      "source": [
        "# DATASET BOOKS\n"
      ],
      "metadata": {
        "id": "1AcZ2uoWhIAr"
      }
    },
    {
      "cell_type": "code",
      "source": [
        "# estatísticas descritivas básicas do dataset Books\n",
        "df_books.describe()"
      ],
      "metadata": {
        "colab": {
          "base_uri": "https://localhost:8080/",
          "height": 229
        },
        "id": "lvx0K1bD-Xm7",
        "outputId": "5c049aa0-fc4a-4c97-f5a7-1b6701b4c5bb"
      },
      "execution_count": null,
      "outputs": [
        {
          "output_type": "execute_result",
          "data": {
            "text/plain": [
              "              ISBN      Book-Title      Book-Author  Year-Of-Publication  \\\n",
              "count       271360          271360           271358               271360   \n",
              "unique      271360          242135           102022                  202   \n",
              "top     020130998X  Selected Poems  Agatha Christie                 2002   \n",
              "freq             1              27              632                13903   \n",
              "\n",
              "        Publisher                                        Image-URL-S  \\\n",
              "count      271358                                             271360   \n",
              "unique      16807                                             271044   \n",
              "top     Harlequin  http://images.amazon.com/images/P/042509474X.0...   \n",
              "freq         7535                                                  2   \n",
              "\n",
              "                                              Image-URL-M  \\\n",
              "count                                              271360   \n",
              "unique                                             271044   \n",
              "top     http://images.amazon.com/images/P/042509474X.0...   \n",
              "freq                                                    2   \n",
              "\n",
              "                                              Image-URL-L  \n",
              "count                                              271357  \n",
              "unique                                             271041  \n",
              "top     http://images.amazon.com/images/P/006091985X.0...  \n",
              "freq                                                    2  "
            ],
            "text/html": [
              "\n",
              "  <div id=\"df-f139f9f3-3e85-4355-aea0-2faeaa97cbc0\" class=\"colab-df-container\">\n",
              "    <div>\n",
              "<style scoped>\n",
              "    .dataframe tbody tr th:only-of-type {\n",
              "        vertical-align: middle;\n",
              "    }\n",
              "\n",
              "    .dataframe tbody tr th {\n",
              "        vertical-align: top;\n",
              "    }\n",
              "\n",
              "    .dataframe thead th {\n",
              "        text-align: right;\n",
              "    }\n",
              "</style>\n",
              "<table border=\"1\" class=\"dataframe\">\n",
              "  <thead>\n",
              "    <tr style=\"text-align: right;\">\n",
              "      <th></th>\n",
              "      <th>ISBN</th>\n",
              "      <th>Book-Title</th>\n",
              "      <th>Book-Author</th>\n",
              "      <th>Year-Of-Publication</th>\n",
              "      <th>Publisher</th>\n",
              "      <th>Image-URL-S</th>\n",
              "      <th>Image-URL-M</th>\n",
              "      <th>Image-URL-L</th>\n",
              "    </tr>\n",
              "  </thead>\n",
              "  <tbody>\n",
              "    <tr>\n",
              "      <th>count</th>\n",
              "      <td>271360</td>\n",
              "      <td>271360</td>\n",
              "      <td>271358</td>\n",
              "      <td>271360</td>\n",
              "      <td>271358</td>\n",
              "      <td>271360</td>\n",
              "      <td>271360</td>\n",
              "      <td>271357</td>\n",
              "    </tr>\n",
              "    <tr>\n",
              "      <th>unique</th>\n",
              "      <td>271360</td>\n",
              "      <td>242135</td>\n",
              "      <td>102022</td>\n",
              "      <td>202</td>\n",
              "      <td>16807</td>\n",
              "      <td>271044</td>\n",
              "      <td>271044</td>\n",
              "      <td>271041</td>\n",
              "    </tr>\n",
              "    <tr>\n",
              "      <th>top</th>\n",
              "      <td>020130998X</td>\n",
              "      <td>Selected Poems</td>\n",
              "      <td>Agatha Christie</td>\n",
              "      <td>2002</td>\n",
              "      <td>Harlequin</td>\n",
              "      <td>http://images.amazon.com/images/P/042509474X.0...</td>\n",
              "      <td>http://images.amazon.com/images/P/042509474X.0...</td>\n",
              "      <td>http://images.amazon.com/images/P/006091985X.0...</td>\n",
              "    </tr>\n",
              "    <tr>\n",
              "      <th>freq</th>\n",
              "      <td>1</td>\n",
              "      <td>27</td>\n",
              "      <td>632</td>\n",
              "      <td>13903</td>\n",
              "      <td>7535</td>\n",
              "      <td>2</td>\n",
              "      <td>2</td>\n",
              "      <td>2</td>\n",
              "    </tr>\n",
              "  </tbody>\n",
              "</table>\n",
              "</div>\n",
              "    <div class=\"colab-df-buttons\">\n",
              "\n",
              "  <div class=\"colab-df-container\">\n",
              "    <button class=\"colab-df-convert\" onclick=\"convertToInteractive('df-f139f9f3-3e85-4355-aea0-2faeaa97cbc0')\"\n",
              "            title=\"Convert this dataframe to an interactive table.\"\n",
              "            style=\"display:none;\">\n",
              "\n",
              "  <svg xmlns=\"http://www.w3.org/2000/svg\" height=\"24px\" viewBox=\"0 -960 960 960\">\n",
              "    <path d=\"M120-120v-720h720v720H120Zm60-500h600v-160H180v160Zm220 220h160v-160H400v160Zm0 220h160v-160H400v160ZM180-400h160v-160H180v160Zm440 0h160v-160H620v160ZM180-180h160v-160H180v160Zm440 0h160v-160H620v160Z\"/>\n",
              "  </svg>\n",
              "    </button>\n",
              "\n",
              "  <style>\n",
              "    .colab-df-container {\n",
              "      display:flex;\n",
              "      gap: 12px;\n",
              "    }\n",
              "\n",
              "    .colab-df-convert {\n",
              "      background-color: #E8F0FE;\n",
              "      border: none;\n",
              "      border-radius: 50%;\n",
              "      cursor: pointer;\n",
              "      display: none;\n",
              "      fill: #1967D2;\n",
              "      height: 32px;\n",
              "      padding: 0 0 0 0;\n",
              "      width: 32px;\n",
              "    }\n",
              "\n",
              "    .colab-df-convert:hover {\n",
              "      background-color: #E2EBFA;\n",
              "      box-shadow: 0px 1px 2px rgba(60, 64, 67, 0.3), 0px 1px 3px 1px rgba(60, 64, 67, 0.15);\n",
              "      fill: #174EA6;\n",
              "    }\n",
              "\n",
              "    .colab-df-buttons div {\n",
              "      margin-bottom: 4px;\n",
              "    }\n",
              "\n",
              "    [theme=dark] .colab-df-convert {\n",
              "      background-color: #3B4455;\n",
              "      fill: #D2E3FC;\n",
              "    }\n",
              "\n",
              "    [theme=dark] .colab-df-convert:hover {\n",
              "      background-color: #434B5C;\n",
              "      box-shadow: 0px 1px 3px 1px rgba(0, 0, 0, 0.15);\n",
              "      filter: drop-shadow(0px 1px 2px rgba(0, 0, 0, 0.3));\n",
              "      fill: #FFFFFF;\n",
              "    }\n",
              "  </style>\n",
              "\n",
              "    <script>\n",
              "      const buttonEl =\n",
              "        document.querySelector('#df-f139f9f3-3e85-4355-aea0-2faeaa97cbc0 button.colab-df-convert');\n",
              "      buttonEl.style.display =\n",
              "        google.colab.kernel.accessAllowed ? 'block' : 'none';\n",
              "\n",
              "      async function convertToInteractive(key) {\n",
              "        const element = document.querySelector('#df-f139f9f3-3e85-4355-aea0-2faeaa97cbc0');\n",
              "        const dataTable =\n",
              "          await google.colab.kernel.invokeFunction('convertToInteractive',\n",
              "                                                    [key], {});\n",
              "        if (!dataTable) return;\n",
              "\n",
              "        const docLinkHtml = 'Like what you see? Visit the ' +\n",
              "          '<a target=\"_blank\" href=https://colab.research.google.com/notebooks/data_table.ipynb>data table notebook</a>'\n",
              "          + ' to learn more about interactive tables.';\n",
              "        element.innerHTML = '';\n",
              "        dataTable['output_type'] = 'display_data';\n",
              "        await google.colab.output.renderOutput(dataTable, element);\n",
              "        const docLink = document.createElement('div');\n",
              "        docLink.innerHTML = docLinkHtml;\n",
              "        element.appendChild(docLink);\n",
              "      }\n",
              "    </script>\n",
              "  </div>\n",
              "\n",
              "\n",
              "    <div id=\"df-2da6ef7f-9452-41bb-8469-f9b155f094b0\">\n",
              "      <button class=\"colab-df-quickchart\" onclick=\"quickchart('df-2da6ef7f-9452-41bb-8469-f9b155f094b0')\"\n",
              "                title=\"Suggest charts\"\n",
              "                style=\"display:none;\">\n",
              "\n",
              "<svg xmlns=\"http://www.w3.org/2000/svg\" height=\"24px\"viewBox=\"0 0 24 24\"\n",
              "     width=\"24px\">\n",
              "    <g>\n",
              "        <path d=\"M19 3H5c-1.1 0-2 .9-2 2v14c0 1.1.9 2 2 2h14c1.1 0 2-.9 2-2V5c0-1.1-.9-2-2-2zM9 17H7v-7h2v7zm4 0h-2V7h2v10zm4 0h-2v-4h2v4z\"/>\n",
              "    </g>\n",
              "</svg>\n",
              "      </button>\n",
              "\n",
              "<style>\n",
              "  .colab-df-quickchart {\n",
              "      --bg-color: #E8F0FE;\n",
              "      --fill-color: #1967D2;\n",
              "      --hover-bg-color: #E2EBFA;\n",
              "      --hover-fill-color: #174EA6;\n",
              "      --disabled-fill-color: #AAA;\n",
              "      --disabled-bg-color: #DDD;\n",
              "  }\n",
              "\n",
              "  [theme=dark] .colab-df-quickchart {\n",
              "      --bg-color: #3B4455;\n",
              "      --fill-color: #D2E3FC;\n",
              "      --hover-bg-color: #434B5C;\n",
              "      --hover-fill-color: #FFFFFF;\n",
              "      --disabled-bg-color: #3B4455;\n",
              "      --disabled-fill-color: #666;\n",
              "  }\n",
              "\n",
              "  .colab-df-quickchart {\n",
              "    background-color: var(--bg-color);\n",
              "    border: none;\n",
              "    border-radius: 50%;\n",
              "    cursor: pointer;\n",
              "    display: none;\n",
              "    fill: var(--fill-color);\n",
              "    height: 32px;\n",
              "    padding: 0;\n",
              "    width: 32px;\n",
              "  }\n",
              "\n",
              "  .colab-df-quickchart:hover {\n",
              "    background-color: var(--hover-bg-color);\n",
              "    box-shadow: 0 1px 2px rgba(60, 64, 67, 0.3), 0 1px 3px 1px rgba(60, 64, 67, 0.15);\n",
              "    fill: var(--button-hover-fill-color);\n",
              "  }\n",
              "\n",
              "  .colab-df-quickchart-complete:disabled,\n",
              "  .colab-df-quickchart-complete:disabled:hover {\n",
              "    background-color: var(--disabled-bg-color);\n",
              "    fill: var(--disabled-fill-color);\n",
              "    box-shadow: none;\n",
              "  }\n",
              "\n",
              "  .colab-df-spinner {\n",
              "    border: 2px solid var(--fill-color);\n",
              "    border-color: transparent;\n",
              "    border-bottom-color: var(--fill-color);\n",
              "    animation:\n",
              "      spin 1s steps(1) infinite;\n",
              "  }\n",
              "\n",
              "  @keyframes spin {\n",
              "    0% {\n",
              "      border-color: transparent;\n",
              "      border-bottom-color: var(--fill-color);\n",
              "      border-left-color: var(--fill-color);\n",
              "    }\n",
              "    20% {\n",
              "      border-color: transparent;\n",
              "      border-left-color: var(--fill-color);\n",
              "      border-top-color: var(--fill-color);\n",
              "    }\n",
              "    30% {\n",
              "      border-color: transparent;\n",
              "      border-left-color: var(--fill-color);\n",
              "      border-top-color: var(--fill-color);\n",
              "      border-right-color: var(--fill-color);\n",
              "    }\n",
              "    40% {\n",
              "      border-color: transparent;\n",
              "      border-right-color: var(--fill-color);\n",
              "      border-top-color: var(--fill-color);\n",
              "    }\n",
              "    60% {\n",
              "      border-color: transparent;\n",
              "      border-right-color: var(--fill-color);\n",
              "    }\n",
              "    80% {\n",
              "      border-color: transparent;\n",
              "      border-right-color: var(--fill-color);\n",
              "      border-bottom-color: var(--fill-color);\n",
              "    }\n",
              "    90% {\n",
              "      border-color: transparent;\n",
              "      border-bottom-color: var(--fill-color);\n",
              "    }\n",
              "  }\n",
              "</style>\n",
              "\n",
              "      <script>\n",
              "        async function quickchart(key) {\n",
              "          const quickchartButtonEl =\n",
              "            document.querySelector('#' + key + ' button');\n",
              "          quickchartButtonEl.disabled = true;  // To prevent multiple clicks.\n",
              "          quickchartButtonEl.classList.add('colab-df-spinner');\n",
              "          try {\n",
              "            const charts = await google.colab.kernel.invokeFunction(\n",
              "                'suggestCharts', [key], {});\n",
              "          } catch (error) {\n",
              "            console.error('Error during call to suggestCharts:', error);\n",
              "          }\n",
              "          quickchartButtonEl.classList.remove('colab-df-spinner');\n",
              "          quickchartButtonEl.classList.add('colab-df-quickchart-complete');\n",
              "        }\n",
              "        (() => {\n",
              "          let quickchartButtonEl =\n",
              "            document.querySelector('#df-2da6ef7f-9452-41bb-8469-f9b155f094b0 button');\n",
              "          quickchartButtonEl.style.display =\n",
              "            google.colab.kernel.accessAllowed ? 'block' : 'none';\n",
              "        })();\n",
              "      </script>\n",
              "    </div>\n",
              "\n",
              "    </div>\n",
              "  </div>\n"
            ],
            "application/vnd.google.colaboratory.intrinsic+json": {
              "type": "dataframe",
              "summary": "{\n  \"name\": \"df_books\",\n  \"rows\": 4,\n  \"fields\": [\n    {\n      \"column\": \"ISBN\",\n      \"properties\": {\n        \"dtype\": \"string\",\n        \"num_unique_values\": 3,\n        \"samples\": [\n          \"271360\",\n          \"020130998X\",\n          \"1\"\n        ],\n        \"semantic_type\": \"\",\n        \"description\": \"\"\n      }\n    },\n    {\n      \"column\": \"Book-Title\",\n      \"properties\": {\n        \"dtype\": \"string\",\n        \"num_unique_values\": 4,\n        \"samples\": [\n          242135,\n          \"27\",\n          \"271360\"\n        ],\n        \"semantic_type\": \"\",\n        \"description\": \"\"\n      }\n    },\n    {\n      \"column\": \"Book-Author\",\n      \"properties\": {\n        \"dtype\": \"string\",\n        \"num_unique_values\": 4,\n        \"samples\": [\n          102022,\n          \"632\",\n          \"271358\"\n        ],\n        \"semantic_type\": \"\",\n        \"description\": \"\"\n      }\n    },\n    {\n      \"column\": \"Year-Of-Publication\",\n      \"properties\": {\n        \"dtype\": \"number\",\n        \"std\": 133134,\n        \"min\": 202,\n        \"max\": 271360,\n        \"num_unique_values\": 4,\n        \"samples\": [\n          202,\n          13903,\n          271360\n        ],\n        \"semantic_type\": \"\",\n        \"description\": \"\"\n      }\n    },\n    {\n      \"column\": \"Publisher\",\n      \"properties\": {\n        \"dtype\": \"string\",\n        \"num_unique_values\": 4,\n        \"samples\": [\n          16807,\n          \"7535\",\n          \"271358\"\n        ],\n        \"semantic_type\": \"\",\n        \"description\": \"\"\n      }\n    },\n    {\n      \"column\": \"Image-URL-S\",\n      \"properties\": {\n        \"dtype\": \"string\",\n        \"num_unique_values\": 4,\n        \"samples\": [\n          271044,\n          \"2\",\n          \"271360\"\n        ],\n        \"semantic_type\": \"\",\n        \"description\": \"\"\n      }\n    },\n    {\n      \"column\": \"Image-URL-M\",\n      \"properties\": {\n        \"dtype\": \"string\",\n        \"num_unique_values\": 4,\n        \"samples\": [\n          271044,\n          \"2\",\n          \"271360\"\n        ],\n        \"semantic_type\": \"\",\n        \"description\": \"\"\n      }\n    },\n    {\n      \"column\": \"Image-URL-L\",\n      \"properties\": {\n        \"dtype\": \"string\",\n        \"num_unique_values\": 4,\n        \"samples\": [\n          271041,\n          \"2\",\n          \"271357\"\n        ],\n        \"semantic_type\": \"\",\n        \"description\": \"\"\n      }\n    }\n  ]\n}"
            }
          },
          "metadata": {},
          "execution_count": 12
        }
      ]
    },
    {
      "cell_type": "markdown",
      "source": [
        "- O dataset books também possui apenas uma variável númerica que podemos analisar, o ano de publicação, que no momento da carga do dataset já vimos que ela apresenta algum problema, então nesta etapa vamos tentar entender melhor ela\n"
      ],
      "metadata": {
        "id": "oIbg3hBJhNWz"
      }
    },
    {
      "cell_type": "code",
      "source": [
        "#Analisando somente o ano de publicação\n",
        "df_books['Year-Of-Publication'].describe()"
      ],
      "metadata": {
        "colab": {
          "base_uri": "https://localhost:8080/",
          "height": 209
        },
        "id": "54Uki6s-hg4Y",
        "outputId": "3221255a-29c8-49ef-8824-4fc7da41b37b"
      },
      "execution_count": null,
      "outputs": [
        {
          "output_type": "execute_result",
          "data": {
            "text/plain": [
              "count     271360\n",
              "unique       202\n",
              "top         2002\n",
              "freq       13903\n",
              "Name: Year-Of-Publication, dtype: int64"
            ],
            "text/html": [
              "<div>\n",
              "<style scoped>\n",
              "    .dataframe tbody tr th:only-of-type {\n",
              "        vertical-align: middle;\n",
              "    }\n",
              "\n",
              "    .dataframe tbody tr th {\n",
              "        vertical-align: top;\n",
              "    }\n",
              "\n",
              "    .dataframe thead th {\n",
              "        text-align: right;\n",
              "    }\n",
              "</style>\n",
              "<table border=\"1\" class=\"dataframe\">\n",
              "  <thead>\n",
              "    <tr style=\"text-align: right;\">\n",
              "      <th></th>\n",
              "      <th>Year-Of-Publication</th>\n",
              "    </tr>\n",
              "  </thead>\n",
              "  <tbody>\n",
              "    <tr>\n",
              "      <th>count</th>\n",
              "      <td>271360</td>\n",
              "    </tr>\n",
              "    <tr>\n",
              "      <th>unique</th>\n",
              "      <td>202</td>\n",
              "    </tr>\n",
              "    <tr>\n",
              "      <th>top</th>\n",
              "      <td>2002</td>\n",
              "    </tr>\n",
              "    <tr>\n",
              "      <th>freq</th>\n",
              "      <td>13903</td>\n",
              "    </tr>\n",
              "  </tbody>\n",
              "</table>\n",
              "</div><br><label><b>dtype:</b> int64</label>"
            ]
          },
          "metadata": {},
          "execution_count": 13
        }
      ]
    },
    {
      "cell_type": "markdown",
      "source": [
        "Aqui podemos ver que o método não está respondendo tudo o que normalmente vemos, logo irei garantir que todas as instâncias desta coluna sejam inteiros, ação que já pode ser considerada parte do pré processamento"
      ],
      "metadata": {
        "id": "wQ9pqmc9iHrj"
      }
    },
    {
      "cell_type": "code",
      "source": [
        "# forçando os dados a se tornarem número e tranformando as instãncias onde a operação falhar em NaN para tratar depois\n",
        "df_books['Year-Of-Publication'] = pd.to_numeric(df_books['Year-Of-Publication'], errors='coerce')"
      ],
      "metadata": {
        "id": "ZKAhvaemiHXM"
      },
      "execution_count": null,
      "outputs": []
    },
    {
      "cell_type": "markdown",
      "source": [
        "- Agora vamos tentar o método *describe* denovo"
      ],
      "metadata": {
        "id": "3xAn-W1ciyhQ"
      }
    },
    {
      "cell_type": "code",
      "source": [
        "#Segunda tentativa de análise\n",
        "df_books['Year-Of-Publication'].describe()"
      ],
      "metadata": {
        "colab": {
          "base_uri": "https://localhost:8080/",
          "height": 335
        },
        "id": "jjwQol5rix7A",
        "outputId": "bff1620a-052b-4d2d-a868-602a77697062"
      },
      "execution_count": null,
      "outputs": [
        {
          "output_type": "execute_result",
          "data": {
            "text/plain": [
              "count    271357.000000\n",
              "mean       1959.760817\n",
              "std         257.994226\n",
              "min           0.000000\n",
              "25%        1989.000000\n",
              "50%        1995.000000\n",
              "75%        2000.000000\n",
              "max        2050.000000\n",
              "Name: Year-Of-Publication, dtype: float64"
            ],
            "text/html": [
              "<div>\n",
              "<style scoped>\n",
              "    .dataframe tbody tr th:only-of-type {\n",
              "        vertical-align: middle;\n",
              "    }\n",
              "\n",
              "    .dataframe tbody tr th {\n",
              "        vertical-align: top;\n",
              "    }\n",
              "\n",
              "    .dataframe thead th {\n",
              "        text-align: right;\n",
              "    }\n",
              "</style>\n",
              "<table border=\"1\" class=\"dataframe\">\n",
              "  <thead>\n",
              "    <tr style=\"text-align: right;\">\n",
              "      <th></th>\n",
              "      <th>Year-Of-Publication</th>\n",
              "    </tr>\n",
              "  </thead>\n",
              "  <tbody>\n",
              "    <tr>\n",
              "      <th>count</th>\n",
              "      <td>271357.000000</td>\n",
              "    </tr>\n",
              "    <tr>\n",
              "      <th>mean</th>\n",
              "      <td>1959.760817</td>\n",
              "    </tr>\n",
              "    <tr>\n",
              "      <th>std</th>\n",
              "      <td>257.994226</td>\n",
              "    </tr>\n",
              "    <tr>\n",
              "      <th>min</th>\n",
              "      <td>0.000000</td>\n",
              "    </tr>\n",
              "    <tr>\n",
              "      <th>25%</th>\n",
              "      <td>1989.000000</td>\n",
              "    </tr>\n",
              "    <tr>\n",
              "      <th>50%</th>\n",
              "      <td>1995.000000</td>\n",
              "    </tr>\n",
              "    <tr>\n",
              "      <th>75%</th>\n",
              "      <td>2000.000000</td>\n",
              "    </tr>\n",
              "    <tr>\n",
              "      <th>max</th>\n",
              "      <td>2050.000000</td>\n",
              "    </tr>\n",
              "  </tbody>\n",
              "</table>\n",
              "</div><br><label><b>dtype:</b> float64</label>"
            ]
          },
          "metadata": {},
          "execution_count": 15
        }
      ]
    },
    {
      "cell_type": "markdown",
      "source": [
        " - Logo de cara vemos que ele somou todos os anos, mas logo em sequência veremos a contagem de anos distintos\n",
        "\n",
        " - Na média, vemos que a o ano de publicação médio é de 1959, o que indica uma preferência por livros mais antigos\n",
        "\n",
        " - No desvio padrão temos o valor de 257 anos, número que parece bem alto e com base na média gera alguns valore impossiveis quando aplicado em cima dela\n",
        "\n",
        " - Ao analisar o min e max, sendo 0 e 2050 vemos valores imposíveis que certamente estão afetando as outras métricas e precisam ser tratados"
      ],
      "metadata": {
        "id": "E0dkxt5NjJwD"
      }
    },
    {
      "cell_type": "markdown",
      "source": [
        "Vamos visualizar essa distribuição dos anos por um histograma"
      ],
      "metadata": {
        "id": "usWOCkrekhDw"
      }
    },
    {
      "cell_type": "code",
      "source": [
        "plt.figure(figsize=(8, 6))\n",
        "sns.histplot(df_books['Year-Of-Publication'], kde=True)\n",
        "plt.xlim(1955, 2005) # Definir o intervalo do eixo X (testei o intervalo inferior manualmente)\n",
        "plt.title('Distribuição do Ano de Publicação dos Livros')\n",
        "plt.xlabel('Ano')\n",
        "plt.ylabel('Frequência')\n",
        "plt.show()"
      ],
      "metadata": {
        "colab": {
          "base_uri": "https://localhost:8080/",
          "height": 564
        },
        "id": "7SW7sSfckdDk",
        "outputId": "d8be18a1-357f-4b34-b315-b74b3db96778"
      },
      "execution_count": null,
      "outputs": [
        {
          "output_type": "display_data",
          "data": {
            "text/plain": [
              "<Figure size 800x600 with 1 Axes>"
            ],
            "image/png": "[encoded data removed]"
          },
          "metadata": {}
        }
      ]
    },
    {
      "cell_type": "markdown",
      "source": [
        "- Podemos ver um grande número de publicação (dos livros lidos) nos anos 90, como os dados foram colhidos em 2004 isso pode inidicar o tempo que um livro precisa para se tornar popular, por isso o alto nível de livros de alguns anos atrás\n",
        "\n",
        "- A curva de densidade estimada (kde) parece discrepante em relação ao histograma se comparado ao resultado da distribuição de usuários, o que teoricamente poderia indicar um excesso de suavização da curva, porém nesse caso indica apenas uma ampla distribuição dos dados."
      ],
      "metadata": {
        "id": "doQTHjpNomHg"
      }
    },
    {
      "cell_type": "markdown",
      "source": [
        "# DATASET RATINGS"
      ],
      "metadata": {
        "id": "WqnM6LHHNBu_"
      }
    },
    {
      "cell_type": "code",
      "source": [
        "# estatísticas descritivas básicas do dataset Ratings\n",
        "df_ratings.describe()"
      ],
      "metadata": {
        "id": "CX8-ukE--Xrt",
        "colab": {
          "base_uri": "https://localhost:8080/",
          "height": 300
        },
        "outputId": "1db23ed4-8307-4ccc-bbea-dac806e2cea3"
      },
      "execution_count": null,
      "outputs": [
        {
          "output_type": "execute_result",
          "data": {
            "text/plain": [
              "            User-ID   Book-Rating\n",
              "count  1.149780e+06  1.149780e+06\n",
              "mean   1.403864e+05  2.866950e+00\n",
              "std    8.056228e+04  3.854184e+00\n",
              "min    2.000000e+00  0.000000e+00\n",
              "25%    7.034500e+04  0.000000e+00\n",
              "50%    1.410100e+05  0.000000e+00\n",
              "75%    2.110280e+05  7.000000e+00\n",
              "max    2.788540e+05  1.000000e+01"
            ],
            "text/html": [
              "\n",
              "  <div id=\"df-1001fbf4-c03a-4cb7-a2eb-5f2778a2bdeb\" class=\"colab-df-container\">\n",
              "    <div>\n",
              "<style scoped>\n",
              "    .dataframe tbody tr th:only-of-type {\n",
              "        vertical-align: middle;\n",
              "    }\n",
              "\n",
              "    .dataframe tbody tr th {\n",
              "        vertical-align: top;\n",
              "    }\n",
              "\n",
              "    .dataframe thead th {\n",
              "        text-align: right;\n",
              "    }\n",
              "</style>\n",
              "<table border=\"1\" class=\"dataframe\">\n",
              "  <thead>\n",
              "    <tr style=\"text-align: right;\">\n",
              "      <th></th>\n",
              "      <th>User-ID</th>\n",
              "      <th>Book-Rating</th>\n",
              "    </tr>\n",
              "  </thead>\n",
              "  <tbody>\n",
              "    <tr>\n",
              "      <th>count</th>\n",
              "      <td>1.149780e+06</td>\n",
              "      <td>1.149780e+06</td>\n",
              "    </tr>\n",
              "    <tr>\n",
              "      <th>mean</th>\n",
              "      <td>1.403864e+05</td>\n",
              "      <td>2.866950e+00</td>\n",
              "    </tr>\n",
              "    <tr>\n",
              "      <th>std</th>\n",
              "      <td>8.056228e+04</td>\n",
              "      <td>3.854184e+00</td>\n",
              "    </tr>\n",
              "    <tr>\n",
              "      <th>min</th>\n",
              "      <td>2.000000e+00</td>\n",
              "      <td>0.000000e+00</td>\n",
              "    </tr>\n",
              "    <tr>\n",
              "      <th>25%</th>\n",
              "      <td>7.034500e+04</td>\n",
              "      <td>0.000000e+00</td>\n",
              "    </tr>\n",
              "    <tr>\n",
              "      <th>50%</th>\n",
              "      <td>1.410100e+05</td>\n",
              "      <td>0.000000e+00</td>\n",
              "    </tr>\n",
              "    <tr>\n",
              "      <th>75%</th>\n",
              "      <td>2.110280e+05</td>\n",
              "      <td>7.000000e+00</td>\n",
              "    </tr>\n",
              "    <tr>\n",
              "      <th>max</th>\n",
              "      <td>2.788540e+05</td>\n",
              "      <td>1.000000e+01</td>\n",
              "    </tr>\n",
              "  </tbody>\n",
              "</table>\n",
              "</div>\n",
              "    <div class=\"colab-df-buttons\">\n",
              "\n",
              "  <div class=\"colab-df-container\">\n",
              "    <button class=\"colab-df-convert\" onclick=\"convertToInteractive('df-1001fbf4-c03a-4cb7-a2eb-5f2778a2bdeb')\"\n",
              "            title=\"Convert this dataframe to an interactive table.\"\n",
              "            style=\"display:none;\">\n",
              "\n",
              "  <svg xmlns=\"http://www.w3.org/2000/svg\" height=\"24px\" viewBox=\"0 -960 960 960\">\n",
              "    <path d=\"M120-120v-720h720v720H120Zm60-500h600v-160H180v160Zm220 220h160v-160H400v160Zm0 220h160v-160H400v160ZM180-400h160v-160H180v160Zm440 0h160v-160H620v160ZM180-180h160v-160H180v160Zm440 0h160v-160H620v160Z\"/>\n",
              "  </svg>\n",
              "    </button>\n",
              "\n",
              "  <style>\n",
              "    .colab-df-container {\n",
              "      display:flex;\n",
              "      gap: 12px;\n",
              "    }\n",
              "\n",
              "    .colab-df-convert {\n",
              "      background-color: #E8F0FE;\n",
              "      border: none;\n",
              "      border-radius: 50%;\n",
              "      cursor: pointer;\n",
              "      display: none;\n",
              "      fill: #1967D2;\n",
              "      height: 32px;\n",
              "      padding: 0 0 0 0;\n",
              "      width: 32px;\n",
              "    }\n",
              "\n",
              "    .colab-df-convert:hover {\n",
              "      background-color: #E2EBFA;\n",
              "      box-shadow: 0px 1px 2px rgba(60, 64, 67, 0.3), 0px 1px 3px 1px rgba(60, 64, 67, 0.15);\n",
              "      fill: #174EA6;\n",
              "    }\n",
              "\n",
              "    .colab-df-buttons div {\n",
              "      margin-bottom: 4px;\n",
              "    }\n",
              "\n",
              "    [theme=dark] .colab-df-convert {\n",
              "      background-color: #3B4455;\n",
              "      fill: #D2E3FC;\n",
              "    }\n",
              "\n",
              "    [theme=dark] .colab-df-convert:hover {\n",
              "      background-color: #434B5C;\n",
              "      box-shadow: 0px 1px 3px 1px rgba(0, 0, 0, 0.15);\n",
              "      filter: drop-shadow(0px 1px 2px rgba(0, 0, 0, 0.3));\n",
              "      fill: #FFFFFF;\n",
              "    }\n",
              "  </style>\n",
              "\n",
              "    <script>\n",
              "      const buttonEl =\n",
              "        document.querySelector('#df-1001fbf4-c03a-4cb7-a2eb-5f2778a2bdeb button.colab-df-convert');\n",
              "      buttonEl.style.display =\n",
              "        google.colab.kernel.accessAllowed ? 'block' : 'none';\n",
              "\n",
              "      async function convertToInteractive(key) {\n",
              "        const element = document.querySelector('#df-1001fbf4-c03a-4cb7-a2eb-5f2778a2bdeb');\n",
              "        const dataTable =\n",
              "          await google.colab.kernel.invokeFunction('convertToInteractive',\n",
              "                                                    [key], {});\n",
              "        if (!dataTable) return;\n",
              "\n",
              "        const docLinkHtml = 'Like what you see? Visit the ' +\n",
              "          '<a target=\"_blank\" href=https://colab.research.google.com/notebooks/data_table.ipynb>data table notebook</a>'\n",
              "          + ' to learn more about interactive tables.';\n",
              "        element.innerHTML = '';\n",
              "        dataTable['output_type'] = 'display_data';\n",
              "        await google.colab.output.renderOutput(dataTable, element);\n",
              "        const docLink = document.createElement('div');\n",
              "        docLink.innerHTML = docLinkHtml;\n",
              "        element.appendChild(docLink);\n",
              "      }\n",
              "    </script>\n",
              "  </div>\n",
              "\n",
              "\n",
              "    <div id=\"df-df2253f7-c5c2-4cfc-9403-3ebd0195e175\">\n",
              "      <button class=\"colab-df-quickchart\" onclick=\"quickchart('df-df2253f7-c5c2-4cfc-9403-3ebd0195e175')\"\n",
              "                title=\"Suggest charts\"\n",
              "                style=\"display:none;\">\n",
              "\n",
              "<svg xmlns=\"http://www.w3.org/2000/svg\" height=\"24px\"viewBox=\"0 0 24 24\"\n",
              "     width=\"24px\">\n",
              "    <g>\n",
              "        <path d=\"M19 3H5c-1.1 0-2 .9-2 2v14c0 1.1.9 2 2 2h14c1.1 0 2-.9 2-2V5c0-1.1-.9-2-2-2zM9 17H7v-7h2v7zm4 0h-2V7h2v10zm4 0h-2v-4h2v4z\"/>\n",
              "    </g>\n",
              "</svg>\n",
              "      </button>\n",
              "\n",
              "<style>\n",
              "  .colab-df-quickchart {\n",
              "      --bg-color: #E8F0FE;\n",
              "      --fill-color: #1967D2;\n",
              "      --hover-bg-color: #E2EBFA;\n",
              "      --hover-fill-color: #174EA6;\n",
              "      --disabled-fill-color: #AAA;\n",
              "      --disabled-bg-color: #DDD;\n",
              "  }\n",
              "\n",
              "  [theme=dark] .colab-df-quickchart {\n",
              "      --bg-color: #3B4455;\n",
              "      --fill-color: #D2E3FC;\n",
              "      --hover-bg-color: #434B5C;\n",
              "      --hover-fill-color: #FFFFFF;\n",
              "      --disabled-bg-color: #3B4455;\n",
              "      --disabled-fill-color: #666;\n",
              "  }\n",
              "\n",
              "  .colab-df-quickchart {\n",
              "    background-color: var(--bg-color);\n",
              "    border: none;\n",
              "    border-radius: 50%;\n",
              "    cursor: pointer;\n",
              "    display: none;\n",
              "    fill: var(--fill-color);\n",
              "    height: 32px;\n",
              "    padding: 0;\n",
              "    width: 32px;\n",
              "  }\n",
              "\n",
              "  .colab-df-quickchart:hover {\n",
              "    background-color: var(--hover-bg-color);\n",
              "    box-shadow: 0 1px 2px rgba(60, 64, 67, 0.3), 0 1px 3px 1px rgba(60, 64, 67, 0.15);\n",
              "    fill: var(--button-hover-fill-color);\n",
              "  }\n",
              "\n",
              "  .colab-df-quickchart-complete:disabled,\n",
              "  .colab-df-quickchart-complete:disabled:hover {\n",
              "    background-color: var(--disabled-bg-color);\n",
              "    fill: var(--disabled-fill-color);\n",
              "    box-shadow: none;\n",
              "  }\n",
              "\n",
              "  .colab-df-spinner {\n",
              "    border: 2px solid var(--fill-color);\n",
              "    border-color: transparent;\n",
              "    border-bottom-color: var(--fill-color);\n",
              "    animation:\n",
              "      spin 1s steps(1) infinite;\n",
              "  }\n",
              "\n",
              "  @keyframes spin {\n",
              "    0% {\n",
              "      border-color: transparent;\n",
              "      border-bottom-color: var(--fill-color);\n",
              "      border-left-color: var(--fill-color);\n",
              "    }\n",
              "    20% {\n",
              "      border-color: transparent;\n",
              "      border-left-color: var(--fill-color);\n",
              "      border-top-color: var(--fill-color);\n",
              "    }\n",
              "    30% {\n",
              "      border-color: transparent;\n",
              "      border-left-color: var(--fill-color);\n",
              "      border-top-color: var(--fill-color);\n",
              "      border-right-color: var(--fill-color);\n",
              "    }\n",
              "    40% {\n",
              "      border-color: transparent;\n",
              "      border-right-color: var(--fill-color);\n",
              "      border-top-color: var(--fill-color);\n",
              "    }\n",
              "    60% {\n",
              "      border-color: transparent;\n",
              "      border-right-color: var(--fill-color);\n",
              "    }\n",
              "    80% {\n",
              "      border-color: transparent;\n",
              "      border-right-color: var(--fill-color);\n",
              "      border-bottom-color: var(--fill-color);\n",
              "    }\n",
              "    90% {\n",
              "      border-color: transparent;\n",
              "      border-bottom-color: var(--fill-color);\n",
              "    }\n",
              "  }\n",
              "</style>\n",
              "\n",
              "      <script>\n",
              "        async function quickchart(key) {\n",
              "          const quickchartButtonEl =\n",
              "            document.querySelector('#' + key + ' button');\n",
              "          quickchartButtonEl.disabled = true;  // To prevent multiple clicks.\n",
              "          quickchartButtonEl.classList.add('colab-df-spinner');\n",
              "          try {\n",
              "            const charts = await google.colab.kernel.invokeFunction(\n",
              "                'suggestCharts', [key], {});\n",
              "          } catch (error) {\n",
              "            console.error('Error during call to suggestCharts:', error);\n",
              "          }\n",
              "          quickchartButtonEl.classList.remove('colab-df-spinner');\n",
              "          quickchartButtonEl.classList.add('colab-df-quickchart-complete');\n",
              "        }\n",
              "        (() => {\n",
              "          let quickchartButtonEl =\n",
              "            document.querySelector('#df-df2253f7-c5c2-4cfc-9403-3ebd0195e175 button');\n",
              "          quickchartButtonEl.style.display =\n",
              "            google.colab.kernel.accessAllowed ? 'block' : 'none';\n",
              "        })();\n",
              "      </script>\n",
              "    </div>\n",
              "\n",
              "    </div>\n",
              "  </div>\n"
            ],
            "application/vnd.google.colaboratory.intrinsic+json": {
              "type": "dataframe",
              "summary": "{\n  \"name\": \"df_ratings\",\n  \"rows\": 8,\n  \"fields\": [\n    {\n      \"column\": \"User-ID\",\n      \"properties\": {\n        \"dtype\": \"number\",\n        \"std\": 370074.5144065263,\n        \"min\": 2.0,\n        \"max\": 1149780.0,\n        \"num_unique_values\": 8,\n        \"samples\": [\n          140386.39512602412,\n          141010.0,\n          1149780.0\n        ],\n        \"semantic_type\": \"\",\n        \"description\": \"\"\n      }\n    },\n    {\n      \"column\": \"Book-Rating\",\n      \"properties\": {\n        \"dtype\": \"number\",\n        \"std\": 406507.41935424885,\n        \"min\": 0.0,\n        \"max\": 1149780.0,\n        \"num_unique_values\": 6,\n        \"samples\": [\n          1149780.0,\n          2.8669501991685364,\n          10.0\n        ],\n        \"semantic_type\": \"\",\n        \"description\": \"\"\n      }\n    }\n  ]\n}"
            }
          },
          "metadata": {},
          "execution_count": 18
        }
      ]
    },
    {
      "cell_type": "markdown",
      "source": [
        "- No dataset Ratings temos duas colunas de identificadores que conectam com outros datasets e a coluna \"Book-Rating\" que contém as avaliações e é a coluna que vamos analisar\n",
        "\n",
        "- Na média temos um valor muito baixo o que pode indicar um grande número de avaliações 0. Segundo o autor do dataset as avaliações explícitas vão de uma escala de 1-10, porém existem também avaliações implícitas, que recebem o valor 0, essas avaliações são em maioria pessoas que adicionaram um livro a sua coleção, mas não o avaliaram, logo esses valores vão ter que ser tratados.\n",
        "\n",
        "- Nos campos de 25% e 50% vemos também o número 0, mostrando que pelo menos metade do nosso dataset são compostos por feedback implícito, ao invés de uma nota produzida pelo usuário. Em um [comentário](https://www.kaggle.com/datasets/arashnic/book-recommendation-dataset/discussion/201619) feito pelo autor do dataset ele explica que tais feedbacks implícitos podem ser cliques ou buscas feitas por usuários relativos aquele livro, como estamos preocupados com as avaliações em si, vamos no futuro retirar essa porção de avaliações implícitas do nosso dataset.\n",
        "\n",
        "- Por fim, temos a nota 10 no max, informação condizente com uma avaliação numa escala de 1-10 e não mostra nenhuma nota fora dessa escala, provavelmente indicando que o input do usuário não era livre."
      ],
      "metadata": {
        "id": "nbx6Uy0ONwyb"
      }
    },
    {
      "cell_type": "markdown",
      "source": [
        "A retirada das avaliações implícitas pode ser considerada parte do pré processamento de dados, mas como metade do nosso dataset é composto por essas avaliações isso teria um alto impacto na nossa análise inicial de dados, logo vamos trabalhar nessa etapa agora."
      ],
      "metadata": {
        "id": "y8IbmH93Qan3"
      }
    },
    {
      "cell_type": "code",
      "source": [
        "# Criação de um novo dataset sem as vavaliações implícitas\n",
        "\n",
        "df_ratings_filtered = df_ratings[df_ratings['Book-Rating'] != 0]"
      ],
      "metadata": {
        "id": "3Z8cSsgNQx64"
      },
      "execution_count": null,
      "outputs": []
    },
    {
      "cell_type": "code",
      "source": [
        "# Análise do novo dataset filtrado\n",
        "\n",
        "df_ratings_filtered.describe()"
      ],
      "metadata": {
        "colab": {
          "base_uri": "https://localhost:8080/",
          "height": 300
        },
        "id": "ywh0cNdwQ50Z",
        "outputId": "59922da3-0902-4c1c-eea1-d4ce5ce8344d"
      },
      "execution_count": null,
      "outputs": [
        {
          "output_type": "execute_result",
          "data": {
            "text/plain": [
              "             User-ID    Book-Rating\n",
              "count  433671.000000  433671.000000\n",
              "mean   135458.743451       7.601066\n",
              "std     80678.385078       1.843798\n",
              "min         8.000000       1.000000\n",
              "25%     66619.000000       7.000000\n",
              "50%    133184.000000       8.000000\n",
              "75%    205735.000000       9.000000\n",
              "max    278854.000000      10.000000"
            ],
            "text/html": [
              "\n",
              "  <div id=\"df-b0da4852-058f-4fd9-a5e3-855e3cfeac50\" class=\"colab-df-container\">\n",
              "    <div>\n",
              "<style scoped>\n",
              "    .dataframe tbody tr th:only-of-type {\n",
              "        vertical-align: middle;\n",
              "    }\n",
              "\n",
              "    .dataframe tbody tr th {\n",
              "        vertical-align: top;\n",
              "    }\n",
              "\n",
              "    .dataframe thead th {\n",
              "        text-align: right;\n",
              "    }\n",
              "</style>\n",
              "<table border=\"1\" class=\"dataframe\">\n",
              "  <thead>\n",
              "    <tr style=\"text-align: right;\">\n",
              "      <th></th>\n",
              "      <th>User-ID</th>\n",
              "      <th>Book-Rating</th>\n",
              "    </tr>\n",
              "  </thead>\n",
              "  <tbody>\n",
              "    <tr>\n",
              "      <th>count</th>\n",
              "      <td>433671.000000</td>\n",
              "      <td>433671.000000</td>\n",
              "    </tr>\n",
              "    <tr>\n",
              "      <th>mean</th>\n",
              "      <td>135458.743451</td>\n",
              "      <td>7.601066</td>\n",
              "    </tr>\n",
              "    <tr>\n",
              "      <th>std</th>\n",
              "      <td>80678.385078</td>\n",
              "      <td>1.843798</td>\n",
              "    </tr>\n",
              "    <tr>\n",
              "      <th>min</th>\n",
              "      <td>8.000000</td>\n",
              "      <td>1.000000</td>\n",
              "    </tr>\n",
              "    <tr>\n",
              "      <th>25%</th>\n",
              "      <td>66619.000000</td>\n",
              "      <td>7.000000</td>\n",
              "    </tr>\n",
              "    <tr>\n",
              "      <th>50%</th>\n",
              "      <td>133184.000000</td>\n",
              "      <td>8.000000</td>\n",
              "    </tr>\n",
              "    <tr>\n",
              "      <th>75%</th>\n",
              "      <td>205735.000000</td>\n",
              "      <td>9.000000</td>\n",
              "    </tr>\n",
              "    <tr>\n",
              "      <th>max</th>\n",
              "      <td>278854.000000</td>\n",
              "      <td>10.000000</td>\n",
              "    </tr>\n",
              "  </tbody>\n",
              "</table>\n",
              "</div>\n",
              "    <div class=\"colab-df-buttons\">\n",
              "\n",
              "  <div class=\"colab-df-container\">\n",
              "    <button class=\"colab-df-convert\" onclick=\"convertToInteractive('df-b0da4852-058f-4fd9-a5e3-855e3cfeac50')\"\n",
              "            title=\"Convert this dataframe to an interactive table.\"\n",
              "            style=\"display:none;\">\n",
              "\n",
              "  <svg xmlns=\"http://www.w3.org/2000/svg\" height=\"24px\" viewBox=\"0 -960 960 960\">\n",
              "    <path d=\"M120-120v-720h720v720H120Zm60-500h600v-160H180v160Zm220 220h160v-160H400v160Zm0 220h160v-160H400v160ZM180-400h160v-160H180v160Zm440 0h160v-160H620v160ZM180-180h160v-160H180v160Zm440 0h160v-160H620v160Z\"/>\n",
              "  </svg>\n",
              "    </button>\n",
              "\n",
              "  <style>\n",
              "    .colab-df-container {\n",
              "      display:flex;\n",
              "      gap: 12px;\n",
              "    }\n",
              "\n",
              "    .colab-df-convert {\n",
              "      background-color: #E8F0FE;\n",
              "      border: none;\n",
              "      border-radius: 50%;\n",
              "      cursor: pointer;\n",
              "      display: none;\n",
              "      fill: #1967D2;\n",
              "      height: 32px;\n",
              "      padding: 0 0 0 0;\n",
              "      width: 32px;\n",
              "    }\n",
              "\n",
              "    .colab-df-convert:hover {\n",
              "      background-color: #E2EBFA;\n",
              "      box-shadow: 0px 1px 2px rgba(60, 64, 67, 0.3), 0px 1px 3px 1px rgba(60, 64, 67, 0.15);\n",
              "      fill: #174EA6;\n",
              "    }\n",
              "\n",
              "    .colab-df-buttons div {\n",
              "      margin-bottom: 4px;\n",
              "    }\n",
              "\n",
              "    [theme=dark] .colab-df-convert {\n",
              "      background-color: #3B4455;\n",
              "      fill: #D2E3FC;\n",
              "    }\n",
              "\n",
              "    [theme=dark] .colab-df-convert:hover {\n",
              "      background-color: #434B5C;\n",
              "      box-shadow: 0px 1px 3px 1px rgba(0, 0, 0, 0.15);\n",
              "      filter: drop-shadow(0px 1px 2px rgba(0, 0, 0, 0.3));\n",
              "      fill: #FFFFFF;\n",
              "    }\n",
              "  </style>\n",
              "\n",
              "    <script>\n",
              "      const buttonEl =\n",
              "        document.querySelector('#df-b0da4852-058f-4fd9-a5e3-855e3cfeac50 button.colab-df-convert');\n",
              "      buttonEl.style.display =\n",
              "        google.colab.kernel.accessAllowed ? 'block' : 'none';\n",
              "\n",
              "      async function convertToInteractive(key) {\n",
              "        const element = document.querySelector('#df-b0da4852-058f-4fd9-a5e3-855e3cfeac50');\n",
              "        const dataTable =\n",
              "          await google.colab.kernel.invokeFunction('convertToInteractive',\n",
              "                                                    [key], {});\n",
              "        if (!dataTable) return;\n",
              "\n",
              "        const docLinkHtml = 'Like what you see? Visit the ' +\n",
              "          '<a target=\"_blank\" href=https://colab.research.google.com/notebooks/data_table.ipynb>data table notebook</a>'\n",
              "          + ' to learn more about interactive tables.';\n",
              "        element.innerHTML = '';\n",
              "        dataTable['output_type'] = 'display_data';\n",
              "        await google.colab.output.renderOutput(dataTable, element);\n",
              "        const docLink = document.createElement('div');\n",
              "        docLink.innerHTML = docLinkHtml;\n",
              "        element.appendChild(docLink);\n",
              "      }\n",
              "    </script>\n",
              "  </div>\n",
              "\n",
              "\n",
              "    <div id=\"df-dd180295-70a1-4854-bfba-008d8d2053cd\">\n",
              "      <button class=\"colab-df-quickchart\" onclick=\"quickchart('df-dd180295-70a1-4854-bfba-008d8d2053cd')\"\n",
              "                title=\"Suggest charts\"\n",
              "                style=\"display:none;\">\n",
              "\n",
              "<svg xmlns=\"http://www.w3.org/2000/svg\" height=\"24px\"viewBox=\"0 0 24 24\"\n",
              "     width=\"24px\">\n",
              "    <g>\n",
              "        <path d=\"M19 3H5c-1.1 0-2 .9-2 2v14c0 1.1.9 2 2 2h14c1.1 0 2-.9 2-2V5c0-1.1-.9-2-2-2zM9 17H7v-7h2v7zm4 0h-2V7h2v10zm4 0h-2v-4h2v4z\"/>\n",
              "    </g>\n",
              "</svg>\n",
              "      </button>\n",
              "\n",
              "<style>\n",
              "  .colab-df-quickchart {\n",
              "      --bg-color: #E8F0FE;\n",
              "      --fill-color: #1967D2;\n",
              "      --hover-bg-color: #E2EBFA;\n",
              "      --hover-fill-color: #174EA6;\n",
              "      --disabled-fill-color: #AAA;\n",
              "      --disabled-bg-color: #DDD;\n",
              "  }\n",
              "\n",
              "  [theme=dark] .colab-df-quickchart {\n",
              "      --bg-color: #3B4455;\n",
              "      --fill-color: #D2E3FC;\n",
              "      --hover-bg-color: #434B5C;\n",
              "      --hover-fill-color: #FFFFFF;\n",
              "      --disabled-bg-color: #3B4455;\n",
              "      --disabled-fill-color: #666;\n",
              "  }\n",
              "\n",
              "  .colab-df-quickchart {\n",
              "    background-color: var(--bg-color);\n",
              "    border: none;\n",
              "    border-radius: 50%;\n",
              "    cursor: pointer;\n",
              "    display: none;\n",
              "    fill: var(--fill-color);\n",
              "    height: 32px;\n",
              "    padding: 0;\n",
              "    width: 32px;\n",
              "  }\n",
              "\n",
              "  .colab-df-quickchart:hover {\n",
              "    background-color: var(--hover-bg-color);\n",
              "    box-shadow: 0 1px 2px rgba(60, 64, 67, 0.3), 0 1px 3px 1px rgba(60, 64, 67, 0.15);\n",
              "    fill: var(--button-hover-fill-color);\n",
              "  }\n",
              "\n",
              "  .colab-df-quickchart-complete:disabled,\n",
              "  .colab-df-quickchart-complete:disabled:hover {\n",
              "    background-color: var(--disabled-bg-color);\n",
              "    fill: var(--disabled-fill-color);\n",
              "    box-shadow: none;\n",
              "  }\n",
              "\n",
              "  .colab-df-spinner {\n",
              "    border: 2px solid var(--fill-color);\n",
              "    border-color: transparent;\n",
              "    border-bottom-color: var(--fill-color);\n",
              "    animation:\n",
              "      spin 1s steps(1) infinite;\n",
              "  }\n",
              "\n",
              "  @keyframes spin {\n",
              "    0% {\n",
              "      border-color: transparent;\n",
              "      border-bottom-color: var(--fill-color);\n",
              "      border-left-color: var(--fill-color);\n",
              "    }\n",
              "    20% {\n",
              "      border-color: transparent;\n",
              "      border-left-color: var(--fill-color);\n",
              "      border-top-color: var(--fill-color);\n",
              "    }\n",
              "    30% {\n",
              "      border-color: transparent;\n",
              "      border-left-color: var(--fill-color);\n",
              "      border-top-color: var(--fill-color);\n",
              "      border-right-color: var(--fill-color);\n",
              "    }\n",
              "    40% {\n",
              "      border-color: transparent;\n",
              "      border-right-color: var(--fill-color);\n",
              "      border-top-color: var(--fill-color);\n",
              "    }\n",
              "    60% {\n",
              "      border-color: transparent;\n",
              "      border-right-color: var(--fill-color);\n",
              "    }\n",
              "    80% {\n",
              "      border-color: transparent;\n",
              "      border-right-color: var(--fill-color);\n",
              "      border-bottom-color: var(--fill-color);\n",
              "    }\n",
              "    90% {\n",
              "      border-color: transparent;\n",
              "      border-bottom-color: var(--fill-color);\n",
              "    }\n",
              "  }\n",
              "</style>\n",
              "\n",
              "      <script>\n",
              "        async function quickchart(key) {\n",
              "          const quickchartButtonEl =\n",
              "            document.querySelector('#' + key + ' button');\n",
              "          quickchartButtonEl.disabled = true;  // To prevent multiple clicks.\n",
              "          quickchartButtonEl.classList.add('colab-df-spinner');\n",
              "          try {\n",
              "            const charts = await google.colab.kernel.invokeFunction(\n",
              "                'suggestCharts', [key], {});\n",
              "          } catch (error) {\n",
              "            console.error('Error during call to suggestCharts:', error);\n",
              "          }\n",
              "          quickchartButtonEl.classList.remove('colab-df-spinner');\n",
              "          quickchartButtonEl.classList.add('colab-df-quickchart-complete');\n",
              "        }\n",
              "        (() => {\n",
              "          let quickchartButtonEl =\n",
              "            document.querySelector('#df-dd180295-70a1-4854-bfba-008d8d2053cd button');\n",
              "          quickchartButtonEl.style.display =\n",
              "            google.colab.kernel.accessAllowed ? 'block' : 'none';\n",
              "        })();\n",
              "      </script>\n",
              "    </div>\n",
              "\n",
              "    </div>\n",
              "  </div>\n"
            ],
            "application/vnd.google.colaboratory.intrinsic+json": {
              "type": "dataframe",
              "summary": "{\n  \"name\": \"df_ratings_filtered\",\n  \"rows\": 8,\n  \"fields\": [\n    {\n      \"column\": \"User-ID\",\n      \"properties\": {\n        \"dtype\": \"number\",\n        \"std\": 137673.1147008922,\n        \"min\": 8.0,\n        \"max\": 433671.0,\n        \"num_unique_values\": 8,\n        \"samples\": [\n          135458.74345068034,\n          133184.0,\n          433671.0\n        ],\n        \"semantic_type\": \"\",\n        \"description\": \"\"\n      }\n    },\n    {\n      \"column\": \"Book-Rating\",\n      \"properties\": {\n        \"dtype\": \"number\",\n        \"std\": 153323.6076818253,\n        \"min\": 1.0,\n        \"max\": 433671.0,\n        \"num_unique_values\": 8,\n        \"samples\": [\n          7.601066246071331,\n          8.0,\n          433671.0\n        ],\n        \"semantic_type\": \"\",\n        \"description\": \"\"\n      }\n    }\n  ]\n}"
            }
          },
          "metadata": {},
          "execution_count": 20
        }
      ]
    },
    {
      "cell_type": "markdown",
      "source": [
        " - Logo de cara podemos ver que o dataset agora tem apenas 433671 registros, aproximadamente ~37% do dataset inicial. Pode parecer uma perda grande de dados, porém ainda temos quase meio milhão de registros para trabalhar, agora com uma qualidade muito maior de dados.\n",
        "\n",
        " - Agora na média temos um valor de 7.6, valor que parece ser muito mais condizente com a realidade de avaliações de usuários, visto que é comum pessoas lerem livros que já sabem que tem algum tipo de interesse, seja pelo tema ou pelo autor.\n",
        "\n",
        " - No campo de 25% temos o valor 7, indicando um baixo número de avaliações negativas, condizentes com a hipotése levantada no tópico acima de que pessoas leêm livros que já possuem interesse.\n",
        "\n",
        " - No desvio padrão temos o valor de 1.8, indicando que as notas variam pouco e ficam na faixa de 5.8 - 9,4, reforçando uma média alta de avaliações positivas."
      ],
      "metadata": {
        "id": "TdDasolRRQuz"
      }
    },
    {
      "cell_type": "code",
      "source": [
        "plt.figure(figsize=(8, 6))\n",
        "\n",
        "sns.histplot(df_ratings_filtered['Book-Rating'], kde=True)\n",
        "plt.title('Avaliações de Livros')\n",
        "plt.xticks(range(1, 11)) #forçando a mostrar todos os labels do eixo x\n",
        "plt.xlabel('Nota 1-10')\n",
        "plt.ylabel('Frequência')\n",
        "plt.show()"
      ],
      "metadata": {
        "colab": {
          "base_uri": "https://localhost:8080/",
          "height": 564
        },
        "id": "3sMWuhpBV_aH",
        "outputId": "afd752e7-77f0-4edc-9437-29fef1b50197"
      },
      "execution_count": null,
      "outputs": [
        {
          "output_type": "display_data",
          "data": {
            "text/plain": [
              "<Figure size 800x600 with 1 Axes>"
            ],
            "image/png": "[encoded data removed]"
          },
          "metadata": {}
        }
      ]
    },
    {
      "cell_type": "markdown",
      "source": [
        "- Com esse histograma podemos confirmar que as notas se concetram acima de 5, indicando que as pessoas tem uma tendência a não avaliar negativamente os livros lidos\n",
        "\n",
        "- A curva de densidade estimada (kde) indica uma multimodalidade com diversos picos na segunda metade do grpafico."
      ],
      "metadata": {
        "id": "iSkvVe0EW3QI"
      }
    },
    {
      "cell_type": "markdown",
      "source": [
        "# DATASETS CRUZADOS\n",
        "- As informações mais valiosas que podemos obter vem da combinação dos datasets, assim podemos juntar de fato as avaliações ao usuário que a fez, sabendo assim também idade e localização do usuário, assim como ao livro, recebendo informações do autor, editora e ano de publicação; Podendo assim responder nossas hipóteses iniciais."
      ],
      "metadata": {
        "id": "zr0EjdxlXjO4"
      }
    },
    {
      "cell_type": "markdown",
      "source": [
        "# Usuários de diferentes faixas etárias possuem padrões de avaliações diferentes ?"
      ],
      "metadata": {
        "id": "e_rt4oMvcKmO"
      }
    },
    {
      "cell_type": "code",
      "source": [
        "# Unir com os dados de usuários\n",
        "df_merged = pd.merge(df_ratings_filtered, df_users, on=\"User-ID\", how=\"inner\")\n",
        "\n",
        "# Agrupar por idade e calcular a média das avaliações\n",
        "mean_per_age = df_merged.groupby(\"Age\")[\"Book-Rating\"].mean().reset_index()\n",
        "\n",
        "# Manter apenas idades plausíveis (entre 5 e 100 anos)\n",
        "mean_per_age = mean_per_age[(mean_per_age[\"Age\"] >= 13) & (mean_per_age[\"Age\"] <= 90)] #setei a idade mínima para 13 anos, idade mínima comum para o uso\n",
        "                                                                                                   #de diversos aplicativos e idade máxima para 90\n",
        "# Plotar o gráfico\n",
        "plt.figure(figsize=(10, 6))\n",
        "plt.plot(mean_per_age[\"Age\"], mean_per_age[\"Book-Rating\"], marker='o')\n",
        "plt.title(\"Média de Avaliação por Idade\")\n",
        "plt.xlabel(\"Idade\")\n",
        "plt.ylabel(\"Média da Nota\")\n",
        "plt.grid(True)\n",
        "plt.tight_layout()\n",
        "plt.show()"
      ],
      "metadata": {
        "colab": {
          "base_uri": "https://localhost:8080/",
          "height": 607
        },
        "id": "c8-_Lq1fX-GJ",
        "outputId": "02c1f368-7082-466d-c866-968e4acdd6cb"
      },
      "execution_count": null,
      "outputs": [
        {
          "output_type": "display_data",
          "data": {
            "text/plain": [
              "<Figure size 1000x600 with 1 Axes>"
            ],
            "image/png": "[encoded data removed]"
          },
          "metadata": {}
        }
      ]
    },
    {
      "cell_type": "markdown",
      "source": [
        "- Esse gráfico serve para responder uma das hipóteses inicias do projeto; \"Usuários de diferentes faixas etárias possuem padrões de avaliações diferentes ?\"\n",
        "- Podemos observar que dos 10 aos 50 anos os usuários avaliam em média dentro de um intervalo de 7-8, indicando um comportamento parecido, e para essas idades a resposta da hipótese seria que não, diferentes idades avaliam da mesma forma.\n",
        "\n",
        "- A partir dos 50 anos vemos uma mudança de comportamento, com alguns picos de avaliação, tanto para cima quanto para baixo. Esse comportamento de avaliação pode se dar por alguns motivos, como uma maior bagagem literário, paciência menor e pouca tolerância para novas obras e gêneros.\n",
        "\n",
        "- A segunda metade do nosso gráfico muda a resposta da pergunta e se fosse analisado separadamente a resposta seria que sim, pois podemos visualizar que o desvio padrão aumento, variando em até 30% da escala total\n",
        "\n",
        "- Agora para responder a hipótese olhando o conjunto da obra não temos um resultado binário como sim e não, na verdade a resposta de \"Usuários de diferentes faixas etárias possuem padrões de avaliações diferentes ?\" é que sim, mas somente a partir dos 50 anos que as avaliações começãm a divergir."
      ],
      "metadata": {
        "id": "w7KJzzq5Ztak"
      }
    },
    {
      "cell_type": "markdown",
      "source": [
        "# Autores possuem uma variação de avaliação muito grande ?"
      ],
      "metadata": {
        "id": "pBnKVSAucIgG"
      }
    },
    {
      "cell_type": "code",
      "source": [
        "# Juntar avaliações com dados dos livros\n",
        "df_ratings_books = pd.merge(df_ratings_filtered, df_books, on=\"ISBN\", how=\"inner\")\n",
        "\n",
        "# Calcular desvio padrão e contagem de avaliações por autor\n",
        "std_per_author = df_ratings_books.groupby(\"Book-Author\")[\"Book-Rating\"].std().reset_index()\n",
        "count_per_author = df_ratings_books.groupby(\"Book-Author\")[\"Book-Rating\"].count().reset_index()\n",
        "\n",
        "# Mesclar os dois resultados\n",
        "std_per_author = std_per_author.merge(count_per_author, on=\"Book-Author\")\n",
        "std_per_author.columns = [\"Book-Author\", \"Rating-Std\", \"Rating-Count\"]\n",
        "\n",
        "# Manter apenas autores com pelo menos 5 avaliações\n",
        "std_per_author = std_per_author[std_per_author[\"Rating-Count\"] >= 5]\n",
        "\n",
        "# Selecionar os 10 autores com maior desvio padrão\n",
        "top_std = std_per_author.sort_values(by=\"Rating-Std\", ascending=False).head(10)\n",
        "\n",
        "# Plotar\n",
        "plt.figure(figsize=(12, 6))\n",
        "plt.barh(top_std[\"Book-Author\"], top_std[\"Rating-Std\"], color='skyblue')\n",
        "plt.xlabel(\"Desvio Padrão das Avaliações\")\n",
        "plt.title(\"Top 10 Autores com Avaliações Mais Discrepantes\")\n",
        "plt.gca().invert_yaxis()  # Coloca o maior no topo\n",
        "plt.tight_layout()\n",
        "plt.show()"
      ],
      "metadata": {
        "colab": {
          "base_uri": "https://localhost:8080/",
          "height": 607
        },
        "id": "jpeH7zZyccFG",
        "outputId": "cbbada7f-9003-4c11-9d87-78fda8ed6965"
      },
      "execution_count": null,
      "outputs": [
        {
          "output_type": "display_data",
          "data": {
            "text/plain": [
              "<Figure size 1200x600 with 1 Axes>"
            ],
            "image/png": "[encoded data removed]"
          },
          "metadata": {}
        }
      ]
    },
    {
      "cell_type": "markdown",
      "source": [
        "- Nesse primeiro gráfico vamos analisar os autores com o maior desvio padrão nas avaliações de seus livros, para entender o extremo superior do problema levantado.\n",
        "\n",
        "- Podemos observar diversos autores com variância em suas avaliações maior que 3.5, com alguns chegando até 4 pontos. Num dataset com média de avaliação ~7 vemos que o mesmo autor pode receber avaliações entre 3 e 10 de nota, mostrando que existem sim diversos autores com obras polêmicas e que mostram um comportamento \"ame ou odeie\"\n"
      ],
      "metadata": {
        "id": "Qewq71t1dGSu"
      }
    },
    {
      "cell_type": "code",
      "source": [
        "avg_std = std_per_author[\"Rating-Std\"].mean()\n",
        "\n",
        "print(f\"Média do desvio padrão das avaliações por autor (mínimo 5 avaliações): {avg_std:.2f}\")"
      ],
      "metadata": {
        "colab": {
          "base_uri": "https://localhost:8080/"
        },
        "id": "4GkJ11GeeHs-",
        "outputId": "8d7304a2-1606-44d1-a515-02a8ff3eac6b"
      },
      "execution_count": null,
      "outputs": [
        {
          "output_type": "stream",
          "name": "stdout",
          "text": [
            "Média do desvio padrão das avaliações por autor (mínimo 5 avaliações): 1.68\n"
          ]
        }
      ]
    },
    {
      "cell_type": "markdown",
      "source": [
        "- Agora analisando o dataset como um todo, e não só os extremos vemos que a média do desvio padrão das avaliações por autor é de apenas 1.5, e com essa informação podemos responder que em média os autores não possuem uma variação muito alta de avaliações em suas obras, ilustrando de certa forma um padrão de qualidade, seja positivo ou negativo."
      ],
      "metadata": {
        "id": "MPgeCo7CeZOm"
      }
    },
    {
      "cell_type": "code",
      "source": [
        "plt.figure(figsize=(10, 6))\n",
        "plt.hist(std_per_author[\"Rating-Std\"], bins=30, color='skyblue', edgecolor='black')\n",
        "plt.axvline(std_per_author[\"Rating-Std\"].mean(), color='red', linestyle='--', label=f'Média = {std_per_author[\"Rating-Std\"].mean():.2f}')\n",
        "plt.title(\"Distribuição do Desvio Padrão das Avaliações por Autor\")\n",
        "plt.xlabel(\"Desvio Padrão das Notas\")\n",
        "plt.ylabel(\"Número de Autores\")\n",
        "plt.legend()\n",
        "plt.grid(True)\n",
        "plt.tight_layout()\n",
        "plt.show()"
      ],
      "metadata": {
        "colab": {
          "base_uri": "https://localhost:8080/",
          "height": 607
        },
        "id": "RzzMVwUOe8ne",
        "outputId": "cebea20e-f3bb-4e79-d9b6-73ace736569e"
      },
      "execution_count": null,
      "outputs": [
        {
          "output_type": "display_data",
          "data": {
            "text/plain": [
              "<Figure size 1000x600 with 1 Axes>"
            ],
            "image/png": "[encoded data removed]"
          },
          "metadata": {}
        }
      ]
    },
    {
      "cell_type": "markdown",
      "source": [
        "- Com esse gráfico reforçamos que a maioria dos autores possui um desvio padrão pequeno relativo a suas avaliações, indicando um variância pequena de suas notas"
      ],
      "metadata": {
        "id": "zudWckK7f3SG"
      }
    },
    {
      "cell_type": "markdown",
      "source": [
        "# Há correlação entre a idade do usuário e a idade do livro avaliado ?"
      ],
      "metadata": {
        "id": "F0M-OFaAzC0w"
      }
    },
    {
      "cell_type": "code",
      "source": [
        "# Unir ratings com dados de livros e usuários\n",
        "df_books_ratings = pd.merge(df_ratings_filtered, df_books, on=\"ISBN\", how=\"inner\")\n",
        "df_merged_full = pd.merge(df_books_ratings, df_users, on=\"User-ID\", how=\"inner\")\n",
        "\n",
        "# Converter coluna de ano para numérico\n",
        "df_merged_full[\"Year-Of-Publication\"] = pd.to_numeric(\n",
        "    df_merged_full[\"Year-Of-Publication\"], errors=\"coerce\"\n",
        ")\n",
        "\n",
        "# Filtrar valores plausíveis\n",
        "df_merged_full = df_merged_full[\n",
        "    (df_merged_full[\"Age\"].between(5, 100)) &\n",
        "    (df_merged_full[\"Year-Of-Publication\"].between(1900, 2025))\n",
        "]\n",
        "\n",
        "# Calcular a \"idade do livro\" na época da análise (supondo ano de referência = 2005)\n",
        "df_merged_full[\"Book-Age\"] = 2005 - df_merged_full[\"Year-Of-Publication\"]\n",
        "\n",
        "# Remover livros com idade negativa (erro de entrada)\n",
        "df_merged_full = df_merged_full[df_merged_full[\"Book-Age\"] >= 0]\n",
        "\n",
        "# Calcular correlação entre idade do usuário e idade do livro\n",
        "correlacao = df_merged_full[[\"Age\", \"Book-Age\"]].corr().iloc[0, 1]\n",
        "print(f\"Correlação entre idade do usuário e idade do livro: {correlacao:.3f}\")"
      ],
      "metadata": {
        "colab": {
          "base_uri": "https://localhost:8080/"
        },
        "id": "02Xtj5hmzFX_",
        "outputId": "630a50b3-101b-490b-d32f-958841e9de0a"
      },
      "execution_count": null,
      "outputs": [
        {
          "output_type": "stream",
          "name": "stdout",
          "text": [
            "Correlação entre idade do usuário e idade do livro: -0.025\n"
          ]
        }
      ]
    },
    {
      "cell_type": "markdown",
      "source": [
        "- Com esse cálculo podemos ver logo de caro que a corrleção dessas informações é quase nula, indicando que não é verdade que a idade do usuário implica de alguma forma na idade do livro avaliado\n",
        "\n",
        "- A seguir vamos confirmar essa informação com alguns gráficos"
      ],
      "metadata": {
        "id": "Zr81Uioc0uFg"
      }
    },
    {
      "cell_type": "code",
      "source": [
        "# Gerar gráfico de dispersão\n",
        "plt.figure(figsize=(10, 6))\n",
        "plt.scatter(df_merged_full[\"Age\"], df_merged_full[\"Book-Age\"], alpha=0.2, s=10)\n",
        "plt.title(\"Idade do Usuário vs. Idade do Livro Avaliado\")\n",
        "plt.xlabel(\"Idade do Usuário\")\n",
        "plt.ylabel(\"Idade do Livro (em anos)\")\n",
        "plt.grid(True)\n",
        "plt.tight_layout()\n",
        "plt.show()"
      ],
      "metadata": {
        "id": "WdaKIic11O1K",
        "colab": {
          "base_uri": "https://localhost:8080/",
          "height": 607
        },
        "outputId": "b55bbc74-67db-4d2d-b4d0-768ca9035250"
      },
      "execution_count": null,
      "outputs": [
        {
          "output_type": "display_data",
          "data": {
            "text/plain": [
              "<Figure size 1000x600 with 1 Axes>"
            ],
            "image/png": "[encoded data removed]"
          },
          "metadata": {}
        }
      ]
    },
    {
      "cell_type": "markdown",
      "source": [
        "- Podemos observar que os pontos estão bastante dispersos, sem tendência clara, reforçando o resultado do cálculo anterior\n",
        "\n",
        "- Leitores de todas as idades parecem avaliar livros de diferentes épocas com frequência semelhante.\n",
        "\n"
      ],
      "metadata": {
        "id": "hE5l6u4t1i3J"
      }
    },
    {
      "cell_type": "code",
      "source": [
        "# Gerar matriz de correlação\n",
        "correlation_matrix = df_merged_full[[\"Age\", \"Book-Age\", \"Book-Rating\"]].corr()\n",
        "\n",
        "# Plotar heatmap\n",
        "plt.figure(figsize=(8, 6))\n",
        "sns.heatmap(correlation_matrix, annot=True, cmap=\"coolwarm\", fmt=\".3f\", square=True)\n",
        "plt.title(\"Matriz de Correlação\")\n",
        "plt.tight_layout()\n",
        "plt.show()"
      ],
      "metadata": {
        "colab": {
          "base_uri": "https://localhost:8080/",
          "height": 607
        },
        "id": "Ai1IwFUk1vt5",
        "outputId": "3bc33eee-99a6-4eec-9477-89f6c908fe2d"
      },
      "execution_count": null,
      "outputs": [
        {
          "output_type": "display_data",
          "data": {
            "text/plain": [
              "<Figure size 800x600 with 2 Axes>"
            ],
            "image/png": "[encoded data removed]"
          },
          "metadata": {}
        }
      ]
    },
    {
      "cell_type": "markdown",
      "source": [
        "- Com o heatmap da matriz de correlação dos atributos temos confirmação absoluta de que os dados não se relacionam e de que não há correlação entre a idade do usuário e a idade do livro avaliado como foi levantado na hipótese."
      ],
      "metadata": {
        "id": "WPeAIJEy2HKq"
      }
    },
    {
      "cell_type": "markdown",
      "source": [
        "# Pré Processamento de Dados\n",
        "- Com todas as hipóteses respondidas na parte de Análise de Dados, agora vamor preparar o dataset para uma futura etapa de machine learning.\n",
        "\n",
        "- Algums alterações já foram feitas nos datasets na etapa de Análise de dados, como a retirada de valores 0 do dataset de Ratings e o ajuste de tipo no dataset Books.\n",
        "\n",
        "- Nossos datasets possuem em sua maioria valores categóricos que não podem ser transformados em valores numéricos, como nome, ISBN e editora, logo essa etapa se focará nas poucas colunas em que algo pode ser feito, resultando numa seção de Pré processamento de dados um pouco reduzida"
      ],
      "metadata": {
        "id": "FZUbex_82X7x"
      }
    },
    {
      "cell_type": "markdown",
      "source": [
        "# Tratamento de Valores Nulos"
      ],
      "metadata": {
        "id": "wXce1OnL3Zii"
      }
    },
    {
      "cell_type": "code",
      "source": [
        "# Verificar a presença de valores nulos\n",
        "print(\"Valores nulos no dataset Users:\")\n",
        "df_users.isnull().sum()"
      ],
      "metadata": {
        "colab": {
          "base_uri": "https://localhost:8080/",
          "height": 195
        },
        "id": "1r85DfG93eB1",
        "outputId": "b8b00fcb-419d-47ad-87f8-f8360454e148"
      },
      "execution_count": null,
      "outputs": [
        {
          "output_type": "stream",
          "name": "stdout",
          "text": [
            "Valores nulos no dataset Users:\n"
          ]
        },
        {
          "output_type": "execute_result",
          "data": {
            "text/plain": [
              "User-ID          0\n",
              "Location         0\n",
              "Age         110762\n",
              "dtype: int64"
            ],
            "text/html": [
              "<div>\n",
              "<style scoped>\n",
              "    .dataframe tbody tr th:only-of-type {\n",
              "        vertical-align: middle;\n",
              "    }\n",
              "\n",
              "    .dataframe tbody tr th {\n",
              "        vertical-align: top;\n",
              "    }\n",
              "\n",
              "    .dataframe thead th {\n",
              "        text-align: right;\n",
              "    }\n",
              "</style>\n",
              "<table border=\"1\" class=\"dataframe\">\n",
              "  <thead>\n",
              "    <tr style=\"text-align: right;\">\n",
              "      <th></th>\n",
              "      <th>0</th>\n",
              "    </tr>\n",
              "  </thead>\n",
              "  <tbody>\n",
              "    <tr>\n",
              "      <th>User-ID</th>\n",
              "      <td>0</td>\n",
              "    </tr>\n",
              "    <tr>\n",
              "      <th>Location</th>\n",
              "      <td>0</td>\n",
              "    </tr>\n",
              "    <tr>\n",
              "      <th>Age</th>\n",
              "      <td>110762</td>\n",
              "    </tr>\n",
              "  </tbody>\n",
              "</table>\n",
              "</div><br><label><b>dtype:</b> int64</label>"
            ]
          },
          "metadata": {},
          "execution_count": 29
        }
      ]
    },
    {
      "cell_type": "code",
      "source": [
        "# Verificar a presença de idades maiores que 90 (valor arbitrário) e menores que 13 (idade mínima para se usar redes sociais)\n",
        "invalid_age = ((df_users[\"Age\"] <= 13) | (df_users[\"Age\"] >= 90)).sum()\n",
        "print(f\"Número de usuários com idade maior que 90: {invalid_age}\")"
      ],
      "metadata": {
        "colab": {
          "base_uri": "https://localhost:8080/"
        },
        "id": "kxzzZSqw4X-i",
        "outputId": "e8b747ee-eb41-4798-f024-ca1f7723510a"
      },
      "execution_count": null,
      "outputs": [
        {
          "output_type": "stream",
          "name": "stdout",
          "text": [
            "Número de usuários com idade maior que 90: 2786\n"
          ]
        }
      ]
    },
    {
      "cell_type": "markdown",
      "source": [
        "- No dataset users temos 110762 usuários com idade NaN e 2768 com idades consideradas inválidas no nosso contexto. (13=< idade <= 90:)"
      ],
      "metadata": {
        "id": "xRpULmmN4ofT"
      }
    },
    {
      "cell_type": "code",
      "source": [
        "# Tratamento das valores inválidos\n",
        "# Vamos substituir pela média composta apenas dos valores válidos\n",
        "\n",
        "# Cálculo da média\n",
        "valid_age = df_users[\"Age\"].dropna()\n",
        "valid_age = valid_age[(valid_age >= 13) & (valid_age <= 90)]\n",
        "avg_age = valid_age.mean()\n",
        "\n",
        "print(avg_age)\n"
      ],
      "metadata": {
        "colab": {
          "base_uri": "https://localhost:8080/"
        },
        "id": "X7Wtdx3a5nEK",
        "outputId": "16322bf9-1bd4-4aa5-efac-21e4a05ddd9a"
      },
      "execution_count": null,
      "outputs": [
        {
          "output_type": "stream",
          "name": "stdout",
          "text": [
            "34.81040312876053\n"
          ]
        }
      ]
    },
    {
      "cell_type": "code",
      "source": [
        "# Substituindo no dataset (média arredondada)\n",
        "\n",
        "avg_age = round(avg_age)\n",
        "\n",
        "df_users[\"Age\"] = df_users[\"Age\"].apply(\n",
        "    lambda x: avg_age if pd.isna(x) or x < 13 or x > 90 else x\n",
        ")\n"
      ],
      "metadata": {
        "id": "3DuDs0B57TeL"
      },
      "execution_count": null,
      "outputs": []
    },
    {
      "cell_type": "markdown",
      "source": [
        "Agora vamos fazer o mesmo com o ano dataset Books"
      ],
      "metadata": {
        "id": "P0d2F_WP-ZHv"
      }
    },
    {
      "cell_type": "code",
      "source": [
        "# Verificar a presença de valores nulos\n",
        "print(\"Valores nulos no dataset Books:\")\n",
        "df_books.isnull().sum()"
      ],
      "metadata": {
        "colab": {
          "base_uri": "https://localhost:8080/",
          "height": 352
        },
        "id": "smGmU9hA-cXi",
        "outputId": "2aaefbfb-b6d9-47f2-f45f-726317574268"
      },
      "execution_count": null,
      "outputs": [
        {
          "output_type": "stream",
          "name": "stdout",
          "text": [
            "Valores nulos no dataset Books:\n"
          ]
        },
        {
          "output_type": "execute_result",
          "data": {
            "text/plain": [
              "ISBN                   0\n",
              "Book-Title             0\n",
              "Book-Author            2\n",
              "Year-Of-Publication    3\n",
              "Publisher              2\n",
              "Image-URL-S            0\n",
              "Image-URL-M            0\n",
              "Image-URL-L            3\n",
              "dtype: int64"
            ],
            "text/html": [
              "<div>\n",
              "<style scoped>\n",
              "    .dataframe tbody tr th:only-of-type {\n",
              "        vertical-align: middle;\n",
              "    }\n",
              "\n",
              "    .dataframe tbody tr th {\n",
              "        vertical-align: top;\n",
              "    }\n",
              "\n",
              "    .dataframe thead th {\n",
              "        text-align: right;\n",
              "    }\n",
              "</style>\n",
              "<table border=\"1\" class=\"dataframe\">\n",
              "  <thead>\n",
              "    <tr style=\"text-align: right;\">\n",
              "      <th></th>\n",
              "      <th>0</th>\n",
              "    </tr>\n",
              "  </thead>\n",
              "  <tbody>\n",
              "    <tr>\n",
              "      <th>ISBN</th>\n",
              "      <td>0</td>\n",
              "    </tr>\n",
              "    <tr>\n",
              "      <th>Book-Title</th>\n",
              "      <td>0</td>\n",
              "    </tr>\n",
              "    <tr>\n",
              "      <th>Book-Author</th>\n",
              "      <td>2</td>\n",
              "    </tr>\n",
              "    <tr>\n",
              "      <th>Year-Of-Publication</th>\n",
              "      <td>3</td>\n",
              "    </tr>\n",
              "    <tr>\n",
              "      <th>Publisher</th>\n",
              "      <td>2</td>\n",
              "    </tr>\n",
              "    <tr>\n",
              "      <th>Image-URL-S</th>\n",
              "      <td>0</td>\n",
              "    </tr>\n",
              "    <tr>\n",
              "      <th>Image-URL-M</th>\n",
              "      <td>0</td>\n",
              "    </tr>\n",
              "    <tr>\n",
              "      <th>Image-URL-L</th>\n",
              "      <td>3</td>\n",
              "    </tr>\n",
              "  </tbody>\n",
              "</table>\n",
              "</div><br><label><b>dtype:</b> int64</label>"
            ]
          },
          "metadata": {},
          "execution_count": 33
        }
      ]
    },
    {
      "cell_type": "markdown",
      "source": [
        "Conceitualmente não faz sentido um autor ou uma editora com valores nulos, e como são informações categóricas não podemos substituir por nenhuma média, então para esses casos vamos dropar essas instâncias"
      ],
      "metadata": {
        "id": "zXpNFT7P-3TK"
      }
    },
    {
      "cell_type": "code",
      "source": [
        "df_books = df_books.dropna(subset=[\"Book-Author\", \"Publisher\"])"
      ],
      "metadata": {
        "id": "TncbZL3I_IwA"
      },
      "execution_count": null,
      "outputs": []
    },
    {
      "cell_type": "code",
      "source": [
        "# Segunda checagem\n",
        "print(\"Valores nulos no dataset Books:\")\n",
        "df_books.isnull().sum()"
      ],
      "metadata": {
        "colab": {
          "base_uri": "https://localhost:8080/",
          "height": 352
        },
        "id": "dxnP3466_WMS",
        "outputId": "7b50138a-4082-44a2-f957-f081536812f0"
      },
      "execution_count": null,
      "outputs": [
        {
          "output_type": "stream",
          "name": "stdout",
          "text": [
            "Valores nulos no dataset Books:\n"
          ]
        },
        {
          "output_type": "execute_result",
          "data": {
            "text/plain": [
              "ISBN                   0\n",
              "Book-Title             0\n",
              "Book-Author            0\n",
              "Year-Of-Publication    3\n",
              "Publisher              0\n",
              "Image-URL-S            0\n",
              "Image-URL-M            0\n",
              "Image-URL-L            3\n",
              "dtype: int64"
            ],
            "text/html": [
              "<div>\n",
              "<style scoped>\n",
              "    .dataframe tbody tr th:only-of-type {\n",
              "        vertical-align: middle;\n",
              "    }\n",
              "\n",
              "    .dataframe tbody tr th {\n",
              "        vertical-align: top;\n",
              "    }\n",
              "\n",
              "    .dataframe thead th {\n",
              "        text-align: right;\n",
              "    }\n",
              "</style>\n",
              "<table border=\"1\" class=\"dataframe\">\n",
              "  <thead>\n",
              "    <tr style=\"text-align: right;\">\n",
              "      <th></th>\n",
              "      <th>0</th>\n",
              "    </tr>\n",
              "  </thead>\n",
              "  <tbody>\n",
              "    <tr>\n",
              "      <th>ISBN</th>\n",
              "      <td>0</td>\n",
              "    </tr>\n",
              "    <tr>\n",
              "      <th>Book-Title</th>\n",
              "      <td>0</td>\n",
              "    </tr>\n",
              "    <tr>\n",
              "      <th>Book-Author</th>\n",
              "      <td>0</td>\n",
              "    </tr>\n",
              "    <tr>\n",
              "      <th>Year-Of-Publication</th>\n",
              "      <td>3</td>\n",
              "    </tr>\n",
              "    <tr>\n",
              "      <th>Publisher</th>\n",
              "      <td>0</td>\n",
              "    </tr>\n",
              "    <tr>\n",
              "      <th>Image-URL-S</th>\n",
              "      <td>0</td>\n",
              "    </tr>\n",
              "    <tr>\n",
              "      <th>Image-URL-M</th>\n",
              "      <td>0</td>\n",
              "    </tr>\n",
              "    <tr>\n",
              "      <th>Image-URL-L</th>\n",
              "      <td>3</td>\n",
              "    </tr>\n",
              "  </tbody>\n",
              "</table>\n",
              "</div><br><label><b>dtype:</b> int64</label>"
            ]
          },
          "metadata": {},
          "execution_count": 35
        }
      ]
    },
    {
      "cell_type": "markdown",
      "source": [
        "No caso dos valores nulos do ano de publicação podemos substituir pela média, também vamos checar por valores fora do escopo, como ano 0 ou algum ano após a data de coleta dos dados (2004)"
      ],
      "metadata": {
        "id": "Usj4U7M2ADQi"
      }
    },
    {
      "cell_type": "code",
      "source": [
        "# Substituindo os NaN pela média\n",
        "\n",
        "avg_year =  round(df_books[\"Year-Of-Publication\"].mean())\n",
        "\n",
        "df_books[\"Year-Of-Publication\"] = df_books[\"Year-Of-Publication\"].fillna(avg_year)"
      ],
      "metadata": {
        "id": "mTZhtSNeAO4b"
      },
      "execution_count": null,
      "outputs": []
    },
    {
      "cell_type": "markdown",
      "source": [
        "Vamos agora tratar os anos inválidos com base no contexto"
      ],
      "metadata": {
        "id": "677Gu0VlBwrp"
      }
    },
    {
      "cell_type": "code",
      "source": [
        "# Definir intervalo válido (1440 é a data de criação da primeira prensa)\n",
        "valid_years = df_books[\"Year-Of-Publication\"].between(1440, 2004)\n",
        "\n",
        "# Calcular média apenas dos anos válidos\n",
        "avg_valid_year = round(df_books.loc[valid_years, \"Year-Of-Publication\"].mean())\n",
        "\n",
        "# Substituir valores fora do intervalo por essa média\n",
        "df_books.loc[~valid_years, \"Year-Of-Publication\"] = avg_valid_year\n",
        "\n",
        "# Verificar resultado\n",
        "print(\"Ano médio usado:\", avg_valid_year)\n",
        "print(\"Anos fora do intervalo após limpeza:\", (~df_books[\"Year-Of-Publication\"].between(1440, 2004)).sum())"
      ],
      "metadata": {
        "colab": {
          "base_uri": "https://localhost:8080/"
        },
        "id": "-Co-o2OvB6SK",
        "outputId": "d059898d-6b58-4fbc-a4cd-c30ce8e9503a"
      },
      "execution_count": null,
      "outputs": [
        {
          "output_type": "stream",
          "name": "stdout",
          "text": [
            "Ano médio usado: 1994\n",
            "Anos fora do intervalo após limpeza: 0\n"
          ]
        }
      ]
    },
    {
      "cell_type": "markdown",
      "source": [
        "# Normalização dos Dados\n",
        "- O único dado que pode ser normalizado no nosso caso é a avalição dos livros, logo vamos coloca-lo numa escala de 0-1 para melhor desempenho em algoritimos de machine learning"
      ],
      "metadata": {
        "id": "gU8TpeBGCs1g"
      }
    },
    {
      "cell_type": "code",
      "source": [
        "# Inicializar o MinMaxScaler\n",
        "scaler_norm = MinMaxScaler()"
      ],
      "metadata": {
        "id": "PXRLeqPPC5_Y"
      },
      "execution_count": null,
      "outputs": []
    },
    {
      "cell_type": "code",
      "source": [
        "df_ratings_normalizado = df_ratings_filtered.copy()\n",
        "\n",
        "scaler_norm.fit(df_ratings_normalizado[[\"Book-Rating\"]])\n",
        "\n",
        "df_ratings_normalizado.loc[:, \"Book-Rating-Normalized\"] = scaler_norm.transform(\n",
        "    df_ratings_normalizado[[\"Book-Rating\"]]\n",
        ")"
      ],
      "metadata": {
        "id": "XaCsLNgHDRRQ"
      },
      "execution_count": null,
      "outputs": []
    },
    {
      "cell_type": "markdown",
      "source": [
        "No nosso contexto estamos trabalhando com um projeto com foco em aprendizado não supervisionado, logo como não existe um alvo não é necessário fazer o split entre dados de treino e teste\n"
      ],
      "metadata": {
        "id": "Q-VH4M8LDz69"
      }
    },
    {
      "cell_type": "markdown",
      "source": [
        "Tendo em vista que KNN é o algoritimo mais usado em sistemas de recomendações vamos somente usar o MinMaxScaler. Caso o algoritimo de escolha fosse o SVD faria sentido usar Z-Scaling no lugar."
      ],
      "metadata": {
        "id": "L3hj81HfHyno"
      }
    },
    {
      "cell_type": "markdown",
      "source": [
        "Agora vamos nos livra de algumas colunas que não vão nos ser úteis como as colunas de link de imagem, que apenas nos direcionam para a foto do livro na amazon, em 3 tamanhos diferentes"
      ],
      "metadata": {
        "id": "pQbeE4NpIIDB"
      }
    },
    {
      "cell_type": "code",
      "source": [
        "# Remover as colunas de URLs\n",
        "df_books2 = df_books.drop(columns=[\"Image-URL-S\", \"Image-URL-M\", \"Image-URL-L\"])\n",
        "\n",
        "# Verificar as colunas restantes\n",
        "print(df_books2.columns)"
      ],
      "metadata": {
        "colab": {
          "base_uri": "https://localhost:8080/"
        },
        "id": "NGeYQpQcITOR",
        "outputId": "bbed92e1-041e-415c-c905-42081562a1bb"
      },
      "execution_count": null,
      "outputs": [
        {
          "output_type": "stream",
          "name": "stdout",
          "text": [
            "Index(['ISBN', 'Book-Title', 'Book-Author', 'Year-Of-Publication',\n",
            "       'Publisher'],\n",
            "      dtype='object')\n"
          ]
        }
      ]
    },
    {
      "cell_type": "markdown",
      "source": [
        "# Abordagem Alternativa\n",
        "\n",
        "- No início do notebook foi proposta uma abordagem alternativa de aprendizado supervisionado para a predição da nota de um livro, então nessa etapa vamos preprar os dados para essa alternativa\n"
      ],
      "metadata": {
        "id": "zcQqeXoMKWz4"
      }
    },
    {
      "cell_type": "code",
      "source": [
        "# Usando datasets alternativos\n",
        "\n",
        "df_books_alt = df_books\n",
        "df_users_alt = df_users\n",
        "df_ratings_alt = df_ratings\n",
        "\n",
        "# Unir os dados\n",
        "df = df_ratings_alt.merge(df_users_alt, on=\"User-ID\", how=\"inner\")\n",
        "df = df.merge(df_books_alt, on=\"ISBN\", how=\"inner\")\n",
        "\n",
        "# Remover colunas irrelevantes\n",
        "df.drop(columns=[\"ISBN\", \"Book-Title\", \"Image-URL-S\", \"Image-URL-M\", \"Image-URL-L\"], errors=\"ignore\", inplace=True)\n",
        "\n",
        "# Tratar a coluna \"Age\"\n",
        "df[\"Age\"] = pd.to_numeric(df[\"Age\"], errors=\"coerce\")\n",
        "df[\"Age\"] = df[\"Age\"].mask((df[\"Age\"] < 13) | (df[\"Age\"] > 90))\n",
        "df[\"Age\"] = df[\"Age\"].fillna(df[\"Age\"].mean())\n",
        "\n",
        "# Tratar a coluna \"Year-Of-Publication\"\n",
        "df[\"Year-Of-Publication\"] = pd.to_numeric(df[\"Year-Of-Publication\"], errors=\"coerce\")\n",
        "df[\"Year-Of-Publication\"] = df[\"Year-Of-Publication\"].mask(\n",
        "    (df[\"Year-Of-Publication\"] < 1000) | (df[\"Year-Of-Publication\"] > 2004)\n",
        ")\n",
        "df[\"Year-Of-Publication\"] = df[\"Year-Of-Publication\"].fillna(df[\"Year-Of-Publication\"].mean())\n",
        "\n",
        "\n",
        "# Frequency Encoding para \"Book-Author\", \"Publisher\" e \"Location\"\n",
        "for col in [\"Book-Author\", \"Publisher\", \"Location\"]:\n",
        "    freq_map = df[col].value_counts()\n",
        "    df[col + \"_Freq\"] = df[col].map(freq_map)\n",
        "\n",
        "# Remover colunas originais categóricas\n",
        "df.drop(columns=[\"Book-Author\", \"Publisher\", \"Location\"], inplace=True)\n",
        "\n",
        "# Separar variáveis preditoras (X) e alvo (y)\n",
        "X = df.drop(columns=[\"Book-Rating\"])\n",
        "y = df[\"Book-Rating\"]"
      ],
      "metadata": {
        "id": "ckf0rvy-OT4A"
      },
      "execution_count": null,
      "outputs": []
    },
    {
      "cell_type": "markdown",
      "source": [
        "- Condensei diveras operações feitas ao longo do notebook em uma célula única por se tratar de uma abordagem alternativa\n",
        "\n",
        "- Separei os dados em treino e teste\n",
        "\n",
        "- Usei o frequency enconding em diversas colunas para substituir dados categórios pela frequência em que aparecem no dataset\n",
        "\n",
        "- One Hot Encoding não seria útil aqui pela alta quantidade de dados distintos, que gerariam uma explosão de dimensionalidade e overfitting no modelo\n",
        "\n",
        "- Dessa forma a abordagem alternativa está pronta para o uso, por exemplo, do algoritimo de Random Forest Refressor ou Gradient boosting"
      ],
      "metadata": {
        "id": "flAniMwBTz_h"
      }
    },
    {
      "cell_type": "markdown",
      "source": [
        "# Conclusão"
      ],
      "metadata": {
        "id": "Gfibd6EBIrVY"
      }
    },
    {
      "cell_type": "markdown",
      "source": [
        "Na etapa de análise de dados conseguimos investigar todas as nossas hipóteses, validando uma e refutando outras duas:\n",
        "\n",
        "- *Usuários de diferentes faixas etárias possuem padrões de avaliações diferentes ?* Sim, mas só a partir dos 50 anos\n",
        "\n",
        "- *Autores possuem uma variação de avaliação muito grande ?* Não, apesar de alguns outliers a variação é pequena, em torno de 1.5\n",
        "\n",
        "- *Há correlação entre a idade do usuário e a idade do livro avaliado ?* Nenhuma, usários de diferentes idades avaliam livros de diferentes épocas"
      ],
      "metadata": {
        "id": "5_SKwa1WItah"
      }
    },
    {
      "cell_type": "markdown",
      "source": [
        "Apesar de uma etapa de pré processamento de dados um pouco reduzidas conseguimos normalizar dados em prepara para a implementação de um algoritimo KNN, assim como lidar com dados faltantes, errados e informações desnecessários. Além disso preparamos uma alternativa nos dados caso um sistema de aprendizado supervisionado queira ser implementado visando prever a nota de um livro"
      ],
      "metadata": {
        "id": "OfN2XMUxJxkI"
      }
    }
  ]
}